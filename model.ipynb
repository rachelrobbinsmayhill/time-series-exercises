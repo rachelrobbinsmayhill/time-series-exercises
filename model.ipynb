{
 "cells": [
  {
   "cell_type": "markdown",
   "id": "6ee4998e-2d7a-4878-8f14-7065e0e769f7",
   "metadata": {},
   "source": [
    "# TIME SERIES MODELING"
   ]
  },
  {
   "cell_type": "markdown",
   "id": "be5660b1-498d-4057-be94-cc1f84798a53",
   "metadata": {},
   "source": [
    "Using saas.csv or log data from API usage or store_item_sales\n",
    "\n",
    "1. Split data (train/validate/test) and resample by any period, except daily, and aggregate using the sum."
   ]
  },
  {
   "cell_type": "markdown",
   "id": "5e9de0ba-64a2-4146-ba64-cac87ea65468",
   "metadata": {},
   "source": [
    "2. Forecast, plot and evaluate using each of the 4 parametric based methods we discussed:\n",
    "- Simple Average\n",
    "- Moving Average\n",
    "- Holt's Linear Trend Model\n",
    "- Based on previous year/month/etc., this is up to you."
   ]
  },
  {
   "cell_type": "markdown",
   "id": "7b459581-4b33-4cbc-83b2-337259be9cfd",
   "metadata": {},
   "source": [
    "Optional: Using store item demand\n",
    "\n",
    "1. Predict 2018 total monthly sales for a single store and/or item by creating a model."
   ]
  },
  {
   "cell_type": "markdown",
   "id": "08456c45-38ab-4d47-b92c-e506b78bc9a8",
   "metadata": {},
   "source": [
    "2. Return a dataframe with the month, store_id, y-hat, and the confidence intervals (y-hat lower, y-hat upper)."
   ]
  },
  {
   "cell_type": "markdown",
   "id": "1ae044ad-99bd-41d5-a83a-2be7f40efd0b",
   "metadata": {},
   "source": [
    "3. Plot the 2018 monthly sales predictions."
   ]
  }
 ],
 "metadata": {
  "kernelspec": {
   "display_name": "Python 3 (ipykernel)",
   "language": "python",
   "name": "python3"
  },
  "language_info": {
   "codemirror_mode": {
    "name": "ipython",
    "version": 3
   },
   "file_extension": ".py",
   "mimetype": "text/x-python",
   "name": "python",
   "nbconvert_exporter": "python",
   "pygments_lexer": "ipython3",
   "version": "3.9.7"
  }
 },
 "nbformat": 4,
 "nbformat_minor": 5
}
