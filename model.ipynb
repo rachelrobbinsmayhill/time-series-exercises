{
 "cells": [
  {
   "cell_type": "markdown",
   "id": "6ee4998e-2d7a-4878-8f14-7065e0e769f7",
   "metadata": {},
   "source": [
    "# TIME SERIES MODELING"
   ]
  },
  {
   "cell_type": "code",
   "execution_count": 1,
   "id": "2b5b0d29-6f85-46e4-ae49-24dba86a1bf9",
   "metadata": {},
   "outputs": [],
   "source": [
    "import warnings\n",
    "warnings.filterwarnings(\"ignore\")\n",
    "\n",
    "import numpy as np\n",
    "import pandas as pd\n",
    "\n",
    "from datetime import datetime\n",
    "from sklearn.metrics import mean_squared_error\n",
    "from math import sqrt\n",
    "\n",
    "import matplotlib.pyplot as plt\n",
    "%matplotlib inline\n",
    "import seaborn as sns\n",
    "from pandas.plotting import register_matplotlib_converters\n",
    "\n",
    "import statsmodels.api as sm\n",
    "from statsmodels.tsa.api import Holt\n",
    "\n",
    "import env\n",
    "import acquire\n",
    "import prepare"
   ]
  },
  {
   "cell_type": "markdown",
   "id": "8f50409e-c617-4d40-ac2b-715d44ea2caf",
   "metadata": {},
   "source": [
    "Using saas.csv or log data from API usage or store_item_sales"
   ]
  },
  {
   "cell_type": "code",
   "execution_count": 2,
   "id": "30824ea2-ebd2-4acd-ba7d-d29cf13851a1",
   "metadata": {},
   "outputs": [
    {
     "name": "stdout",
     "output_type": "stream",
     "text": [
      "Reading from csv file...\n",
      "Reading from csv file...\n",
      "Reading from csv file...\n"
     ]
    }
   ],
   "source": [
    "df = acquire.get_store_item_demand_data()"
   ]
  },
  {
   "cell_type": "code",
   "execution_count": 3,
   "id": "85f76bc6-105e-4c80-bfc7-f2a07c8f3dc5",
   "metadata": {},
   "outputs": [],
   "source": [
    "df = prepare.prep_store_data(df)"
   ]
  },
  {
   "cell_type": "code",
   "execution_count": 4,
   "id": "29abbbe6-1b8e-4470-9404-dde43fc1e5e6",
   "metadata": {},
   "outputs": [
    {
     "data": {
      "text/html": [
       "<div>\n",
       "<style scoped>\n",
       "    .dataframe tbody tr th:only-of-type {\n",
       "        vertical-align: middle;\n",
       "    }\n",
       "\n",
       "    .dataframe tbody tr th {\n",
       "        vertical-align: top;\n",
       "    }\n",
       "\n",
       "    .dataframe thead th {\n",
       "        text-align: right;\n",
       "    }\n",
       "</style>\n",
       "<table border=\"1\" class=\"dataframe\">\n",
       "  <thead>\n",
       "    <tr style=\"text-align: right;\">\n",
       "      <th></th>\n",
       "      <th>sales_total</th>\n",
       "      <th>quantity</th>\n",
       "    </tr>\n",
       "    <tr>\n",
       "      <th>sale_date</th>\n",
       "      <th></th>\n",
       "      <th></th>\n",
       "    </tr>\n",
       "  </thead>\n",
       "  <tbody>\n",
       "    <tr>\n",
       "      <th>2013-01-31</th>\n",
       "      <td>2447368.20</td>\n",
       "      <td>454904.0</td>\n",
       "    </tr>\n",
       "    <tr>\n",
       "      <th>2013-02-28</th>\n",
       "      <td>2469765.97</td>\n",
       "      <td>459417.0</td>\n",
       "    </tr>\n",
       "    <tr>\n",
       "      <th>2013-03-31</th>\n",
       "      <td>3319815.58</td>\n",
       "      <td>617382.0</td>\n",
       "    </tr>\n",
       "    <tr>\n",
       "      <th>2013-04-30</th>\n",
       "      <td>3666901.23</td>\n",
       "      <td>682274.0</td>\n",
       "    </tr>\n",
       "    <tr>\n",
       "      <th>2013-05-31</th>\n",
       "      <td>4102278.40</td>\n",
       "      <td>763242.0</td>\n",
       "    </tr>\n",
       "  </tbody>\n",
       "</table>\n",
       "</div>"
      ],
      "text/plain": [
       "            sales_total  quantity\n",
       "sale_date                        \n",
       "2013-01-31   2447368.20  454904.0\n",
       "2013-02-28   2469765.97  459417.0\n",
       "2013-03-31   3319815.58  617382.0\n",
       "2013-04-30   3666901.23  682274.0\n",
       "2013-05-31   4102278.40  763242.0"
      ]
     },
     "execution_count": 4,
     "metadata": {},
     "output_type": "execute_result"
    }
   ],
   "source": [
    "df.head()"
   ]
  },
  {
   "cell_type": "markdown",
   "id": "f2ab5769-b7d1-422e-a167-64d8f3581039",
   "metadata": {},
   "source": [
    "# SPLIT DATA"
   ]
  },
  {
   "cell_type": "markdown",
   "id": "dea3dcaf-08bb-49c2-a104-c0f7ba99ed00",
   "metadata": {},
   "source": [
    "1. Split data (train/validate/test) and resample by any period, except daily, and aggregate using the sum."
   ]
  },
  {
   "cell_type": "code",
   "execution_count": 5,
   "id": "466650bd-b2c1-468d-9409-c1f08b94c4f0",
   "metadata": {},
   "outputs": [],
   "source": [
    "#Train set at 50% of data set\n",
    "train_size = int(len(df) * .5)\n",
    "#Validate set at 30% of data set\n",
    "validate_size = int(len(df) * .3)\n",
    "# Test size is the reamining portion of data set\n",
    "test_size = int(len(df) - train_size - validate_size)\n",
    "# determine end of validate\n",
    "validate_end_index = train_size + validate_size\n",
    "\n",
    "# split into train, validation, test\n",
    "train = df[: train_size]\n",
    "validate = df[train_size : validate_end_index]\n",
    "test = df[validate_end_index : ]"
   ]
  },
  {
   "cell_type": "code",
   "execution_count": 6,
   "id": "60f5d516-5932-42af-8374-79c6f69547ee",
   "metadata": {},
   "outputs": [
    {
     "data": {
      "text/html": [
       "<div>\n",
       "<style scoped>\n",
       "    .dataframe tbody tr th:only-of-type {\n",
       "        vertical-align: middle;\n",
       "    }\n",
       "\n",
       "    .dataframe tbody tr th {\n",
       "        vertical-align: top;\n",
       "    }\n",
       "\n",
       "    .dataframe thead th {\n",
       "        text-align: right;\n",
       "    }\n",
       "</style>\n",
       "<table border=\"1\" class=\"dataframe\">\n",
       "  <thead>\n",
       "    <tr style=\"text-align: right;\">\n",
       "      <th></th>\n",
       "      <th>sales_total</th>\n",
       "      <th>quantity</th>\n",
       "    </tr>\n",
       "    <tr>\n",
       "      <th>sale_date</th>\n",
       "      <th></th>\n",
       "      <th></th>\n",
       "    </tr>\n",
       "  </thead>\n",
       "  <tbody>\n",
       "    <tr>\n",
       "      <th>2014-09-30</th>\n",
       "      <td>4220256.45</td>\n",
       "      <td>785124.0</td>\n",
       "    </tr>\n",
       "    <tr>\n",
       "      <th>2014-10-31</th>\n",
       "      <td>4078573.46</td>\n",
       "      <td>758883.0</td>\n",
       "    </tr>\n",
       "    <tr>\n",
       "      <th>2014-11-30</th>\n",
       "      <td>4302315.54</td>\n",
       "      <td>800783.0</td>\n",
       "    </tr>\n",
       "    <tr>\n",
       "      <th>2014-12-31</th>\n",
       "      <td>3108354.15</td>\n",
       "      <td>578048.0</td>\n",
       "    </tr>\n",
       "    <tr>\n",
       "      <th>2015-01-31</th>\n",
       "      <td>2971740.70</td>\n",
       "      <td>552513.0</td>\n",
       "    </tr>\n",
       "    <tr>\n",
       "      <th>2015-02-28</th>\n",
       "      <td>2962257.74</td>\n",
       "      <td>551317.0</td>\n",
       "    </tr>\n",
       "    <tr>\n",
       "      <th>2015-03-31</th>\n",
       "      <td>3932960.55</td>\n",
       "      <td>730951.0</td>\n",
       "    </tr>\n",
       "    <tr>\n",
       "      <th>2015-04-30</th>\n",
       "      <td>4427214.12</td>\n",
       "      <td>824467.0</td>\n",
       "    </tr>\n",
       "    <tr>\n",
       "      <th>2015-05-31</th>\n",
       "      <td>4988111.92</td>\n",
       "      <td>926902.0</td>\n",
       "    </tr>\n",
       "    <tr>\n",
       "      <th>2015-06-30</th>\n",
       "      <td>5037761.76</td>\n",
       "      <td>937184.0</td>\n",
       "    </tr>\n",
       "  </tbody>\n",
       "</table>\n",
       "</div>"
      ],
      "text/plain": [
       "            sales_total  quantity\n",
       "sale_date                        \n",
       "2014-09-30   4220256.45  785124.0\n",
       "2014-10-31   4078573.46  758883.0\n",
       "2014-11-30   4302315.54  800783.0\n",
       "2014-12-31   3108354.15  578048.0\n",
       "2015-01-31   2971740.70  552513.0\n",
       "2015-02-28   2962257.74  551317.0\n",
       "2015-03-31   3932960.55  730951.0\n",
       "2015-04-30   4427214.12  824467.0\n",
       "2015-05-31   4988111.92  926902.0\n",
       "2015-06-30   5037761.76  937184.0"
      ]
     },
     "execution_count": 6,
     "metadata": {},
     "output_type": "execute_result"
    }
   ],
   "source": [
    "train.tail(10)"
   ]
  },
  {
   "cell_type": "code",
   "execution_count": 7,
   "id": "d6f1686e-c9f2-435e-a770-f79d1f1cb89f",
   "metadata": {},
   "outputs": [
    {
     "data": {
      "text/html": [
       "<div>\n",
       "<style scoped>\n",
       "    .dataframe tbody tr th:only-of-type {\n",
       "        vertical-align: middle;\n",
       "    }\n",
       "\n",
       "    .dataframe tbody tr th {\n",
       "        vertical-align: top;\n",
       "    }\n",
       "\n",
       "    .dataframe thead th {\n",
       "        text-align: right;\n",
       "    }\n",
       "</style>\n",
       "<table border=\"1\" class=\"dataframe\">\n",
       "  <thead>\n",
       "    <tr style=\"text-align: right;\">\n",
       "      <th></th>\n",
       "      <th>sales_total</th>\n",
       "      <th>quantity</th>\n",
       "    </tr>\n",
       "    <tr>\n",
       "      <th>sale_date</th>\n",
       "      <th></th>\n",
       "      <th></th>\n",
       "    </tr>\n",
       "  </thead>\n",
       "  <tbody>\n",
       "    <tr>\n",
       "      <th>2015-07-31</th>\n",
       "      <td>5575319.12</td>\n",
       "      <td>1037350.0</td>\n",
       "    </tr>\n",
       "    <tr>\n",
       "      <th>2015-08-31</th>\n",
       "      <td>4951252.98</td>\n",
       "      <td>920401.0</td>\n",
       "    </tr>\n",
       "    <tr>\n",
       "      <th>2015-09-30</th>\n",
       "      <td>4426326.24</td>\n",
       "      <td>823332.0</td>\n",
       "    </tr>\n",
       "    <tr>\n",
       "      <th>2015-10-31</th>\n",
       "      <td>4286868.40</td>\n",
       "      <td>797253.0</td>\n",
       "    </tr>\n",
       "    <tr>\n",
       "      <th>2015-11-30</th>\n",
       "      <td>4448745.67</td>\n",
       "      <td>827645.0</td>\n",
       "    </tr>\n",
       "  </tbody>\n",
       "</table>\n",
       "</div>"
      ],
      "text/plain": [
       "            sales_total   quantity\n",
       "sale_date                         \n",
       "2015-07-31   5575319.12  1037350.0\n",
       "2015-08-31   4951252.98   920401.0\n",
       "2015-09-30   4426326.24   823332.0\n",
       "2015-10-31   4286868.40   797253.0\n",
       "2015-11-30   4448745.67   827645.0"
      ]
     },
     "execution_count": 7,
     "metadata": {},
     "output_type": "execute_result"
    }
   ],
   "source": [
    "validate.head()"
   ]
  },
  {
   "cell_type": "markdown",
   "id": "96979642-5ed9-477a-87d7-c69e192ef540",
   "metadata": {},
   "source": [
    "# PLOT SPLITS"
   ]
  },
  {
   "cell_type": "code",
   "execution_count": 8,
   "id": "1b67eef4-9514-4750-b2f2-0218b0a0ad88",
   "metadata": {},
   "outputs": [
    {
     "data": {
      "image/png": "[encoded data removed]",
      "text/plain": [
       "<Figure size 864x288 with 1 Axes>"
      ]
     },
     "metadata": {
      "needs_background": "light"
     },
     "output_type": "display_data"
    },
    {
     "data": {
      "image/png": "[encoded data removed]",
      "text/plain": [
       "<Figure size 864x288 with 1 Axes>"
      ]
     },
     "metadata": {
      "needs_background": "light"
     },
     "output_type": "display_data"
    }
   ],
   "source": [
    "for col in train.columns:\n",
    "    plt.figure(figsize=(12,4))\n",
    "    plt.plot(train[col])\n",
    "    plt.plot(validate[col])\n",
    "    plt.plot(test[col])\n",
    "    plt.ylabel(col)\n",
    "    plt.title(col)\n",
    "    plt.show()"
   ]
  },
  {
   "cell_type": "code",
   "execution_count": 9,
   "id": "879d2be3-0a7d-4f2a-8c09-32e2b1328a1d",
   "metadata": {},
   "outputs": [
    {
     "data": {
      "text/plain": [
       "(60, 36, 24)"
      ]
     },
     "execution_count": 9,
     "metadata": {},
     "output_type": "execute_result"
    }
   ],
   "source": [
    "train.size, validate.size, test.size"
   ]
  },
  {
   "cell_type": "markdown",
   "id": "d6099f6d-4ce3-48d5-8033-9d6d8d1530f3",
   "metadata": {},
   "source": [
    "# FUNCTIONS TO ASSIST in FORCASTING"
   ]
  },
  {
   "cell_type": "code",
   "execution_count": 10,
   "id": "2ed1b62a-df25-44bb-9ec6-dd04463250fc",
   "metadata": {},
   "outputs": [],
   "source": [
    "# evaluation function to compute rmse\n",
    "def evaluate(target_var):\n",
    "    '''\n",
    "    This function will take the actual values of the target_var from validate, \n",
    "    and the predicted values stored in yhat_df, \n",
    "    and compute the rmse, rounding to 0 decimal places. \n",
    "    it will return the rmse. \n",
    "    '''\n",
    "    rmse = round(sqrt(mean_squared_error(validate[target_var], yhat_df[target_var])), 0)\n",
    "    return rmse"
   ]
  },
  {
   "cell_type": "code",
   "execution_count": 11,
   "id": "b4344ea6-77b7-4b0a-99fd-834a8df94aca",
   "metadata": {},
   "outputs": [],
   "source": [
    "# plot and evaluate \n",
    "def plot_and_eval(target_var):\n",
    "    '''\n",
    "    This function takes in the target var name (string), and returns a plot\n",
    "    of the values of train for that variable, validate, and the predicted values from yhat_df. \n",
    "    it will als lable the rmse. \n",
    "    '''\n",
    "    plt.figure(figsize = (12,4))\n",
    "    plt.plot(train[target_var], label = 'Train', linewidth = 1)\n",
    "    plt.plot(validate[target_var], label = 'Validate', linewidth = 1)\n",
    "    plt.plot(yhat_df[target_var])\n",
    "    plt.title(target_var)\n",
    "    rmse = evaluate(target_var)\n",
    "    print(target_var, '-- RMSE: {:.0f}'.format(rmse))\n",
    "    plt.show()"
   ]
  },
  {
   "cell_type": "code",
   "execution_count": 12,
   "id": "6f871db0-3625-47df-8e86-9c6cb9dcd919",
   "metadata": {},
   "outputs": [],
   "source": [
    "# Create the empty dataframe\n",
    "eval_df = pd.DataFrame(columns=['model_type', 'target_var', 'rmse'])\n",
    "\n",
    "# function to store rmse for comparison purposes\n",
    "def append_eval_df(model_type, target_var):\n",
    "    '''\n",
    "    this function takes in as arguments the type of model run, and the name of the target variable. \n",
    "    It returns the eval_df with the rmse appended to it for that model and target_var. \n",
    "    '''\n",
    "    rmse = evaluate(target_var)\n",
    "    d = {'model_type': [model_type], 'target_var': [target_var], 'rmse': [rmse]}\n",
    "    d = pd.DataFrame(d)\n",
    "    return eval_df.append(d, ignore_index = True)\n"
   ]
  },
  {
   "cell_type": "code",
   "execution_count": 13,
   "id": "e5ca15af-a16c-4654-ad97-00de1b7ea962",
   "metadata": {},
   "outputs": [],
   "source": [
    "def make_predictions(dollars=None, items=None):\n",
    "    yhat_df = pd.DataFrame({'dollars_sold': [dollars],\n",
    "                           'items_sold': [items]},\n",
    "                          index=validate.index)\n",
    "    return yhat_df"
   ]
  },
  {
   "cell_type": "markdown",
   "id": "5e9de0ba-64a2-4146-ba64-cac87ea65468",
   "metadata": {},
   "source": [
    "2. Forecast, plot and evaluate using each of the 4 parametric based methods we discussed:\n",
    "- Simple Average\n",
    "- Moving Average\n",
    "- Holt's Linear Trend Model\n",
    "- Based on previous year/month/etc., this is up to you."
   ]
  },
  {
   "cell_type": "markdown",
   "id": "2aba7f07-7035-49b0-9e40-8e2c7101971e",
   "metadata": {},
   "source": [
    "### Simple Average"
   ]
  },
  {
   "cell_type": "markdown",
   "id": "e85889f1-7e0d-4e8c-af16-a90f9d8f2ef6",
   "metadata": {},
   "source": [
    "#### Make Predictons"
   ]
  },
  {
   "cell_type": "code",
   "execution_count": 14,
   "id": "5cd93acf-9a74-465e-b0b1-6477665c87e7",
   "metadata": {},
   "outputs": [
    {
     "data": {
      "text/plain": [
       "3871057.0"
      ]
     },
     "execution_count": 14,
     "metadata": {},
     "output_type": "execute_result"
    }
   ],
   "source": [
    "# compute simple average to establish the predictions\n",
    "sales_total = round(train['sales_total'].mean(), 2)\n",
    "sales_total"
   ]
  },
  {
   "cell_type": "code",
   "execution_count": 15,
   "id": "0bc992db-1cc6-4db7-a60e-e311cb59406d",
   "metadata": {},
   "outputs": [
    {
     "data": {
      "text/plain": [
       "720001.97"
      ]
     },
     "execution_count": 15,
     "metadata": {},
     "output_type": "execute_result"
    }
   ],
   "source": [
    "# compute simple average to establish the predictions\n",
    "item_quantity = round(train['quantity'].mean(), 2)\n",
    "item_quantity"
   ]
  },
  {
   "cell_type": "code",
   "execution_count": 16,
   "id": "dae0ef6d-efee-447e-b4d5-3f9c96706ab5",
   "metadata": {},
   "outputs": [],
   "source": [
    "#Apply predictions to the observations\n",
    "def make_predictions(dollars=None, items=None):\n",
    "    yhat_df = pd.DataFrame({'sales_total': [sales_total],\n",
    "                           'quantity': [item_quantity]},\n",
    "                          index=validate.index)\n",
    "    return yhat_df"
   ]
  },
  {
   "cell_type": "code",
   "execution_count": 17,
   "id": "d11e8dfd-c753-4954-a112-eb7f4c2a4133",
   "metadata": {},
   "outputs": [],
   "source": [
    "yhat_df = make_predictions(sales_total, item_quantity)"
   ]
  },
  {
   "cell_type": "code",
   "execution_count": 18,
   "id": "c4a1d311-9022-4c27-861c-e62c84ed85b8",
   "metadata": {},
   "outputs": [
    {
     "data": {
      "text/html": [
       "<div>\n",
       "<style scoped>\n",
       "    .dataframe tbody tr th:only-of-type {\n",
       "        vertical-align: middle;\n",
       "    }\n",
       "\n",
       "    .dataframe tbody tr th {\n",
       "        vertical-align: top;\n",
       "    }\n",
       "\n",
       "    .dataframe thead th {\n",
       "        text-align: right;\n",
       "    }\n",
       "</style>\n",
       "<table border=\"1\" class=\"dataframe\">\n",
       "  <thead>\n",
       "    <tr style=\"text-align: right;\">\n",
       "      <th></th>\n",
       "      <th>sales_total</th>\n",
       "      <th>quantity</th>\n",
       "    </tr>\n",
       "    <tr>\n",
       "      <th>sale_date</th>\n",
       "      <th></th>\n",
       "      <th></th>\n",
       "    </tr>\n",
       "  </thead>\n",
       "  <tbody>\n",
       "    <tr>\n",
       "      <th>2015-07-31</th>\n",
       "      <td>3871057.0</td>\n",
       "      <td>720001.97</td>\n",
       "    </tr>\n",
       "    <tr>\n",
       "      <th>2015-08-31</th>\n",
       "      <td>3871057.0</td>\n",
       "      <td>720001.97</td>\n",
       "    </tr>\n",
       "    <tr>\n",
       "      <th>2015-09-30</th>\n",
       "      <td>3871057.0</td>\n",
       "      <td>720001.97</td>\n",
       "    </tr>\n",
       "    <tr>\n",
       "      <th>2015-10-31</th>\n",
       "      <td>3871057.0</td>\n",
       "      <td>720001.97</td>\n",
       "    </tr>\n",
       "    <tr>\n",
       "      <th>2015-11-30</th>\n",
       "      <td>3871057.0</td>\n",
       "      <td>720001.97</td>\n",
       "    </tr>\n",
       "  </tbody>\n",
       "</table>\n",
       "</div>"
      ],
      "text/plain": [
       "            sales_total   quantity\n",
       "sale_date                         \n",
       "2015-07-31    3871057.0  720001.97\n",
       "2015-08-31    3871057.0  720001.97\n",
       "2015-09-30    3871057.0  720001.97\n",
       "2015-10-31    3871057.0  720001.97\n",
       "2015-11-30    3871057.0  720001.97"
      ]
     },
     "execution_count": 18,
     "metadata": {},
     "output_type": "execute_result"
    }
   ],
   "source": [
    "yhat_df.head()"
   ]
  },
  {
   "cell_type": "markdown",
   "id": "3c2076b0-eec0-4c52-9d89-7cc426100913",
   "metadata": {},
   "source": [
    "#### Plot Actual vs. Predicted Values"
   ]
  },
  {
   "cell_type": "code",
   "execution_count": 19,
   "id": "8e0fee76-6010-49db-878b-7c79de459820",
   "metadata": {},
   "outputs": [
    {
     "name": "stdout",
     "output_type": "stream",
     "text": [
      "sales_total -- RMSE: 1087281\n"
     ]
    },
    {
     "data": {
      "image/png": "[encoded data removed]",
      "text/plain": [
       "<Figure size 864x288 with 1 Axes>"
      ]
     },
     "metadata": {
      "needs_background": "light"
     },
     "output_type": "display_data"
    },
    {
     "name": "stdout",
     "output_type": "stream",
     "text": [
      "quantity -- RMSE: 202312\n"
     ]
    },
    {
     "data": {
      "image/png": "[encoded data removed]",
      "text/plain": [
       "<Figure size 864x288 with 1 Axes>"
      ]
     },
     "metadata": {
      "needs_background": "light"
     },
     "output_type": "display_data"
    }
   ],
   "source": [
    "for col in train.columns:\n",
    "    plot_and_eval(col)"
   ]
  },
  {
   "cell_type": "markdown",
   "id": "a108acef-6bce-40e8-8a95-6e0abd4d9fbb",
   "metadata": {},
   "source": [
    "#### Evaluate"
   ]
  },
  {
   "cell_type": "code",
   "execution_count": 20,
   "id": "06943ab3-14c4-471b-8fa8-395af19d5f47",
   "metadata": {},
   "outputs": [
    {
     "data": {
      "text/html": [
       "<div>\n",
       "<style scoped>\n",
       "    .dataframe tbody tr th:only-of-type {\n",
       "        vertical-align: middle;\n",
       "    }\n",
       "\n",
       "    .dataframe tbody tr th {\n",
       "        vertical-align: top;\n",
       "    }\n",
       "\n",
       "    .dataframe thead th {\n",
       "        text-align: right;\n",
       "    }\n",
       "</style>\n",
       "<table border=\"1\" class=\"dataframe\">\n",
       "  <thead>\n",
       "    <tr style=\"text-align: right;\">\n",
       "      <th></th>\n",
       "      <th>model_type</th>\n",
       "      <th>target_var</th>\n",
       "      <th>rmse</th>\n",
       "    </tr>\n",
       "  </thead>\n",
       "  <tbody>\n",
       "    <tr>\n",
       "      <th>0</th>\n",
       "      <td>simple_average</td>\n",
       "      <td>sales_total</td>\n",
       "      <td>1087281.0</td>\n",
       "    </tr>\n",
       "    <tr>\n",
       "      <th>1</th>\n",
       "      <td>simple_average</td>\n",
       "      <td>quantity</td>\n",
       "      <td>202312.0</td>\n",
       "    </tr>\n",
       "  </tbody>\n",
       "</table>\n",
       "</div>"
      ],
      "text/plain": [
       "       model_type   target_var       rmse\n",
       "0  simple_average  sales_total  1087281.0\n",
       "1  simple_average     quantity   202312.0"
      ]
     },
     "execution_count": 20,
     "metadata": {},
     "output_type": "execute_result"
    }
   ],
   "source": [
    "for col in train.columns:\n",
    "    eval_df = append_eval_df(model_type = 'simple_average', \n",
    "                             target_var = col)\n",
    "\n",
    "eval_df"
   ]
  },
  {
   "cell_type": "markdown",
   "id": "91b00087-eb2f-46c7-b762-48c18140313a",
   "metadata": {},
   "source": [
    "### Moving Average"
   ]
  },
  {
   "cell_type": "markdown",
   "id": "da473210-7342-4ff8-9eae-d9cbba120d9c",
   "metadata": {},
   "source": [
    "#### Make Predictions"
   ]
  },
  {
   "cell_type": "code",
   "execution_count": 21,
   "id": "b2fadc6b-a0b6-4089-bf86-2dd738098985",
   "metadata": {},
   "outputs": [
    {
     "name": "stdout",
     "output_type": "stream",
     "text": [
      "4817695.93 896184.33\n"
     ]
    }
   ],
   "source": [
    "period = 3\n",
    "sales_total = round(train['sales_total'].rolling(period).mean()[-1],2)\n",
    "item_quantity = round(train['quantity'].rolling(period).mean()[-1],2)\n",
    "print(sales_total, item_quantity)"
   ]
  },
  {
   "cell_type": "code",
   "execution_count": 22,
   "id": "0a5ef93c-cd17-48c4-a5d4-34695e4af010",
   "metadata": {},
   "outputs": [
    {
     "data": {
      "text/html": [
       "<div>\n",
       "<style scoped>\n",
       "    .dataframe tbody tr th:only-of-type {\n",
       "        vertical-align: middle;\n",
       "    }\n",
       "\n",
       "    .dataframe tbody tr th {\n",
       "        vertical-align: top;\n",
       "    }\n",
       "\n",
       "    .dataframe thead th {\n",
       "        text-align: right;\n",
       "    }\n",
       "</style>\n",
       "<table border=\"1\" class=\"dataframe\">\n",
       "  <thead>\n",
       "    <tr style=\"text-align: right;\">\n",
       "      <th></th>\n",
       "      <th>sales_total</th>\n",
       "      <th>quantity</th>\n",
       "    </tr>\n",
       "    <tr>\n",
       "      <th>sale_date</th>\n",
       "      <th></th>\n",
       "      <th></th>\n",
       "    </tr>\n",
       "  </thead>\n",
       "  <tbody>\n",
       "    <tr>\n",
       "      <th>2015-07-31</th>\n",
       "      <td>4817695.93</td>\n",
       "      <td>896184.33</td>\n",
       "    </tr>\n",
       "    <tr>\n",
       "      <th>2015-08-31</th>\n",
       "      <td>4817695.93</td>\n",
       "      <td>896184.33</td>\n",
       "    </tr>\n",
       "    <tr>\n",
       "      <th>2015-09-30</th>\n",
       "      <td>4817695.93</td>\n",
       "      <td>896184.33</td>\n",
       "    </tr>\n",
       "    <tr>\n",
       "      <th>2015-10-31</th>\n",
       "      <td>4817695.93</td>\n",
       "      <td>896184.33</td>\n",
       "    </tr>\n",
       "    <tr>\n",
       "      <th>2015-11-30</th>\n",
       "      <td>4817695.93</td>\n",
       "      <td>896184.33</td>\n",
       "    </tr>\n",
       "  </tbody>\n",
       "</table>\n",
       "</div>"
      ],
      "text/plain": [
       "            sales_total   quantity\n",
       "sale_date                         \n",
       "2015-07-31   4817695.93  896184.33\n",
       "2015-08-31   4817695.93  896184.33\n",
       "2015-09-30   4817695.93  896184.33\n",
       "2015-10-31   4817695.93  896184.33\n",
       "2015-11-30   4817695.93  896184.33"
      ]
     },
     "execution_count": 22,
     "metadata": {},
     "output_type": "execute_result"
    }
   ],
   "source": [
    "yhat_df = make_predictions(sales_total, item_quantity)\n",
    "yhat_df.head()"
   ]
  },
  {
   "cell_type": "markdown",
   "id": "ff848c14-ba05-4593-ac21-2817c10fcc0c",
   "metadata": {},
   "source": [
    "#### Plot Actual vs. Predicted Values"
   ]
  },
  {
   "cell_type": "code",
   "execution_count": 23,
   "id": "366aaf91-67b5-44f2-84fd-d00764c46b9c",
   "metadata": {},
   "outputs": [
    {
     "name": "stdout",
     "output_type": "stream",
     "text": [
      "sales_total -- RMSE: 846105\n"
     ]
    },
    {
     "data": {
      "image/png": "[encoded data removed]",
      "text/plain": [
       "<Figure size 864x288 with 1 Axes>"
      ]
     },
     "metadata": {
      "needs_background": "light"
     },
     "output_type": "display_data"
    },
    {
     "name": "stdout",
     "output_type": "stream",
     "text": [
      "quantity -- RMSE: 157415\n"
     ]
    },
    {
     "data": {
      "image/png": "[encoded data removed]",
      "text/plain": [
       "<Figure size 864x288 with 1 Axes>"
      ]
     },
     "metadata": {
      "needs_background": "light"
     },
     "output_type": "display_data"
    }
   ],
   "source": [
    "for col in train.columns:\n",
    "    plot_and_eval(col)"
   ]
  },
  {
   "cell_type": "markdown",
   "id": "65aecc22-19c4-4176-b8ed-900fca607abe",
   "metadata": {},
   "source": [
    "#### Evaluate"
   ]
  },
  {
   "cell_type": "code",
   "execution_count": 24,
   "id": "b10647aa-84fe-416a-9ed7-09a03c2c684c",
   "metadata": {},
   "outputs": [
    {
     "data": {
      "text/html": [
       "<div>\n",
       "<style scoped>\n",
       "    .dataframe tbody tr th:only-of-type {\n",
       "        vertical-align: middle;\n",
       "    }\n",
       "\n",
       "    .dataframe tbody tr th {\n",
       "        vertical-align: top;\n",
       "    }\n",
       "\n",
       "    .dataframe thead th {\n",
       "        text-align: right;\n",
       "    }\n",
       "</style>\n",
       "<table border=\"1\" class=\"dataframe\">\n",
       "  <thead>\n",
       "    <tr style=\"text-align: right;\">\n",
       "      <th></th>\n",
       "      <th>model_type</th>\n",
       "      <th>target_var</th>\n",
       "      <th>rmse</th>\n",
       "    </tr>\n",
       "  </thead>\n",
       "  <tbody>\n",
       "    <tr>\n",
       "      <th>0</th>\n",
       "      <td>simple_average</td>\n",
       "      <td>sales_total</td>\n",
       "      <td>1087281.0</td>\n",
       "    </tr>\n",
       "    <tr>\n",
       "      <th>1</th>\n",
       "      <td>simple_average</td>\n",
       "      <td>quantity</td>\n",
       "      <td>202312.0</td>\n",
       "    </tr>\n",
       "    <tr>\n",
       "      <th>2</th>\n",
       "      <td>3M_moving_avg</td>\n",
       "      <td>sales_total</td>\n",
       "      <td>846105.0</td>\n",
       "    </tr>\n",
       "    <tr>\n",
       "      <th>3</th>\n",
       "      <td>3M_moving_avg</td>\n",
       "      <td>quantity</td>\n",
       "      <td>157415.0</td>\n",
       "    </tr>\n",
       "  </tbody>\n",
       "</table>\n",
       "</div>"
      ],
      "text/plain": [
       "       model_type   target_var       rmse\n",
       "0  simple_average  sales_total  1087281.0\n",
       "1  simple_average     quantity   202312.0\n",
       "2   3M_moving_avg  sales_total   846105.0\n",
       "3   3M_moving_avg     quantity   157415.0"
      ]
     },
     "execution_count": 24,
     "metadata": {},
     "output_type": "execute_result"
    }
   ],
   "source": [
    "for col in train.columns:\n",
    "    eval_df = append_eval_df(model_type = '3M_moving_avg',\n",
    "                             target_var = col)\n",
    "eval_df"
   ]
  },
  {
   "cell_type": "code",
   "execution_count": 25,
   "id": "951245f2-8b0a-4f86-9206-8a7a4023fd20",
   "metadata": {},
   "outputs": [],
   "source": [
    "periods = [1, 4, 6, 12]\n",
    "\n",
    "for p in periods:\n",
    "    sales_total = round(train['sales_total'].rolling(p).mean()[-1],2)\n",
    "    item_quantity = round(train['quantity'].rolling(p).mean()[-1],2)\n",
    "    yhat_df = make_predictions(sales_total, item_quantity)\n",
    "    model_type = str(p) + '_month_moving_avg'\n",
    "    for col in train.columns:\n",
    "        eval_df = append_eval_df(model_type = model_type, \n",
    "                                 target_var = col)"
   ]
  },
  {
   "cell_type": "code",
   "execution_count": 26,
   "id": "c8294c20-39da-42e3-b87a-c25e601d4bf6",
   "metadata": {},
   "outputs": [
    {
     "data": {
      "text/html": [
       "<div>\n",
       "<style scoped>\n",
       "    .dataframe tbody tr th:only-of-type {\n",
       "        vertical-align: middle;\n",
       "    }\n",
       "\n",
       "    .dataframe tbody tr th {\n",
       "        vertical-align: top;\n",
       "    }\n",
       "\n",
       "    .dataframe thead th {\n",
       "        text-align: right;\n",
       "    }\n",
       "</style>\n",
       "<table border=\"1\" class=\"dataframe\">\n",
       "  <thead>\n",
       "    <tr style=\"text-align: right;\">\n",
       "      <th></th>\n",
       "      <th>model_type</th>\n",
       "      <th>target_var</th>\n",
       "      <th>rmse</th>\n",
       "    </tr>\n",
       "  </thead>\n",
       "  <tbody>\n",
       "    <tr>\n",
       "      <th>0</th>\n",
       "      <td>simple_average</td>\n",
       "      <td>sales_total</td>\n",
       "      <td>1087281.0</td>\n",
       "    </tr>\n",
       "    <tr>\n",
       "      <th>1</th>\n",
       "      <td>simple_average</td>\n",
       "      <td>quantity</td>\n",
       "      <td>202312.0</td>\n",
       "    </tr>\n",
       "    <tr>\n",
       "      <th>2</th>\n",
       "      <td>3M_moving_avg</td>\n",
       "      <td>sales_total</td>\n",
       "      <td>846105.0</td>\n",
       "    </tr>\n",
       "    <tr>\n",
       "      <th>3</th>\n",
       "      <td>3M_moving_avg</td>\n",
       "      <td>quantity</td>\n",
       "      <td>157415.0</td>\n",
       "    </tr>\n",
       "    <tr>\n",
       "      <th>4</th>\n",
       "      <td>1_month_moving_avg</td>\n",
       "      <td>sales_total</td>\n",
       "      <td>929649.0</td>\n",
       "    </tr>\n",
       "    <tr>\n",
       "      <th>5</th>\n",
       "      <td>1_month_moving_avg</td>\n",
       "      <td>quantity</td>\n",
       "      <td>172989.0</td>\n",
       "    </tr>\n",
       "    <tr>\n",
       "      <th>6</th>\n",
       "      <td>4_month_moving_avg</td>\n",
       "      <td>sales_total</td>\n",
       "      <td>815097.0</td>\n",
       "    </tr>\n",
       "    <tr>\n",
       "      <th>7</th>\n",
       "      <td>4_month_moving_avg</td>\n",
       "      <td>quantity</td>\n",
       "      <td>151640.0</td>\n",
       "    </tr>\n",
       "    <tr>\n",
       "      <th>8</th>\n",
       "      <td>6_month_moving_avg</td>\n",
       "      <td>sales_total</td>\n",
       "      <td>976250.0</td>\n",
       "    </tr>\n",
       "    <tr>\n",
       "      <th>9</th>\n",
       "      <td>6_month_moving_avg</td>\n",
       "      <td>quantity</td>\n",
       "      <td>181664.0</td>\n",
       "    </tr>\n",
       "    <tr>\n",
       "      <th>10</th>\n",
       "      <td>12_month_moving_avg</td>\n",
       "      <td>sales_total</td>\n",
       "      <td>914659.0</td>\n",
       "    </tr>\n",
       "    <tr>\n",
       "      <th>11</th>\n",
       "      <td>12_month_moving_avg</td>\n",
       "      <td>quantity</td>\n",
       "      <td>170156.0</td>\n",
       "    </tr>\n",
       "  </tbody>\n",
       "</table>\n",
       "</div>"
      ],
      "text/plain": [
       "             model_type   target_var       rmse\n",
       "0        simple_average  sales_total  1087281.0\n",
       "1        simple_average     quantity   202312.0\n",
       "2         3M_moving_avg  sales_total   846105.0\n",
       "3         3M_moving_avg     quantity   157415.0\n",
       "4    1_month_moving_avg  sales_total   929649.0\n",
       "5    1_month_moving_avg     quantity   172989.0\n",
       "6    4_month_moving_avg  sales_total   815097.0\n",
       "7    4_month_moving_avg     quantity   151640.0\n",
       "8    6_month_moving_avg  sales_total   976250.0\n",
       "9    6_month_moving_avg     quantity   181664.0\n",
       "10  12_month_moving_avg  sales_total   914659.0\n",
       "11  12_month_moving_avg     quantity   170156.0"
      ]
     },
     "execution_count": 26,
     "metadata": {},
     "output_type": "execute_result"
    }
   ],
   "source": [
    "eval_df"
   ]
  },
  {
   "cell_type": "code",
   "execution_count": 27,
   "id": "6b8d3683-f5c7-43bf-a233-e25a8d3b55ce",
   "metadata": {},
   "outputs": [
    {
     "data": {
      "text/html": [
       "<div>\n",
       "<style scoped>\n",
       "    .dataframe tbody tr th:only-of-type {\n",
       "        vertical-align: middle;\n",
       "    }\n",
       "\n",
       "    .dataframe tbody tr th {\n",
       "        vertical-align: top;\n",
       "    }\n",
       "\n",
       "    .dataframe thead th {\n",
       "        text-align: right;\n",
       "    }\n",
       "</style>\n",
       "<table border=\"1\" class=\"dataframe\">\n",
       "  <thead>\n",
       "    <tr style=\"text-align: right;\">\n",
       "      <th></th>\n",
       "      <th>model_type</th>\n",
       "      <th>target_var</th>\n",
       "      <th>rmse</th>\n",
       "    </tr>\n",
       "  </thead>\n",
       "  <tbody>\n",
       "    <tr>\n",
       "      <th>6</th>\n",
       "      <td>4_month_moving_avg</td>\n",
       "      <td>sales_total</td>\n",
       "      <td>815097.0</td>\n",
       "    </tr>\n",
       "    <tr>\n",
       "      <th>7</th>\n",
       "      <td>4_month_moving_avg</td>\n",
       "      <td>quantity</td>\n",
       "      <td>151640.0</td>\n",
       "    </tr>\n",
       "  </tbody>\n",
       "</table>\n",
       "</div>"
      ],
      "text/plain": [
       "           model_type   target_var      rmse\n",
       "6  4_month_moving_avg  sales_total  815097.0\n",
       "7  4_month_moving_avg     quantity  151640.0"
      ]
     },
     "execution_count": 27,
     "metadata": {},
     "output_type": "execute_result"
    }
   ],
   "source": [
    "# best performing average\n",
    "min_sales_rmse = eval_df[eval_df.target_var == 'sales_total']['rmse'].min()\n",
    "min_quantity_rmse = eval_df[eval_df.target_var == 'quantity']['rmse'].min()\n",
    "\n",
    "eval_df[((eval_df.rmse == min_sales_rmse) |\n",
    "         (eval_df.rmse == min_quantity_rmse)\n",
    "        )]"
   ]
  },
  {
   "cell_type": "markdown",
   "id": "32a136d3-cd82-4d52-927c-9bb255260132",
   "metadata": {},
   "source": [
    "### Holt's Linear Trend Model"
   ]
  },
  {
   "cell_type": "markdown",
   "id": "082eb21a-4a03-4870-b6e0-2c26608c39f5",
   "metadata": {},
   "source": [
    "#### Seasonal Decomposition"
   ]
  },
  {
   "cell_type": "code",
   "execution_count": 28,
   "id": "b001bac1-2b08-4c30-b466-07d59c5fdb01",
   "metadata": {},
   "outputs": [
    {
     "name": "stdout",
     "output_type": "stream",
     "text": [
      "sales_total \n",
      "\n"
     ]
    },
    {
     "data": {
      "image/png": "[encoded data removed]",
      "text/plain": [
       "<Figure size 432x288 with 4 Axes>"
      ]
     },
     "metadata": {
      "needs_background": "light"
     },
     "output_type": "display_data"
    },
    {
     "name": "stdout",
     "output_type": "stream",
     "text": [
      "quantity \n",
      "\n"
     ]
    },
    {
     "data": {
      "image/png": "[encoded data removed]",
      "text/plain": [
       "<Figure size 432x288 with 4 Axes>"
      ]
     },
     "metadata": {
      "needs_background": "light"
     },
     "output_type": "display_data"
    }
   ],
   "source": [
    "for col in train.columns:\n",
    "    print(col, '\\n')\n",
    "    sm.tsa.seasonal_decompose(train[col].resample('M').mean()).plot()\n",
    "    plt.show()"
   ]
  },
  {
   "cell_type": "markdown",
   "id": "995aa937-a674-4b4b-939a-d23dbaabf393",
   "metadata": {},
   "source": [
    "#### Make Predictions"
   ]
  },
  {
   "cell_type": "code",
   "execution_count": 29,
   "id": "238f6516-ff50-458f-bfaf-8f4492604a71",
   "metadata": {},
   "outputs": [
    {
     "name": "stderr",
     "output_type": "stream",
     "text": [
      "/usr/local/anaconda3/lib/python3.9/site-packages/statsmodels/tsa/holtwinters/model.py:920: ConvergenceWarning: Optimization failed to converge. Check mle_retvals.\n",
      "  warnings.warn(\n",
      "/usr/local/anaconda3/lib/python3.9/site-packages/statsmodels/tsa/holtwinters/model.py:920: ConvergenceWarning: Optimization failed to converge. Check mle_retvals.\n",
      "  warnings.warn(\n"
     ]
    }
   ],
   "source": [
    "for col in train.columns:\n",
    "    #create the Holt object\n",
    "    model = Holt(train[col], exponential=False, damped=True)\n",
    "    #fit the model\n",
    "    model = model.fit(optimized=True)\n",
    "    #make predictions for each date in validate\n",
    "    yhat_items = model.predict(start = validate.index[0],\n",
    "                               end = validate.index[-1])\n",
    "    #add predictions to the yhat_df\n",
    "    yhat_df[col] = round(yhat_items, 2)"
   ]
  },
  {
   "cell_type": "code",
   "execution_count": 30,
   "id": "1129e75f-5d85-4443-8d19-51c53f842cde",
   "metadata": {},
   "outputs": [
    {
     "data": {
      "text/html": [
       "<div>\n",
       "<style scoped>\n",
       "    .dataframe tbody tr th:only-of-type {\n",
       "        vertical-align: middle;\n",
       "    }\n",
       "\n",
       "    .dataframe tbody tr th {\n",
       "        vertical-align: top;\n",
       "    }\n",
       "\n",
       "    .dataframe thead th {\n",
       "        text-align: right;\n",
       "    }\n",
       "</style>\n",
       "<table border=\"1\" class=\"dataframe\">\n",
       "  <thead>\n",
       "    <tr style=\"text-align: right;\">\n",
       "      <th></th>\n",
       "      <th>sales_total</th>\n",
       "      <th>quantity</th>\n",
       "    </tr>\n",
       "    <tr>\n",
       "      <th>sale_date</th>\n",
       "      <th></th>\n",
       "      <th></th>\n",
       "    </tr>\n",
       "  </thead>\n",
       "  <tbody>\n",
       "    <tr>\n",
       "      <th>2015-07-31</th>\n",
       "      <td>5054157.33</td>\n",
       "      <td>940483.07</td>\n",
       "    </tr>\n",
       "    <tr>\n",
       "      <th>2015-08-31</th>\n",
       "      <td>5070565.39</td>\n",
       "      <td>943785.83</td>\n",
       "    </tr>\n",
       "    <tr>\n",
       "      <th>2015-09-30</th>\n",
       "      <td>5086809.37</td>\n",
       "      <td>947055.57</td>\n",
       "    </tr>\n",
       "    <tr>\n",
       "      <th>2015-10-31</th>\n",
       "      <td>5102890.91</td>\n",
       "      <td>950292.61</td>\n",
       "    </tr>\n",
       "    <tr>\n",
       "      <th>2015-11-30</th>\n",
       "      <td>5118811.64</td>\n",
       "      <td>953497.27</td>\n",
       "    </tr>\n",
       "    <tr>\n",
       "      <th>2015-12-31</th>\n",
       "      <td>5134573.15</td>\n",
       "      <td>956669.89</td>\n",
       "    </tr>\n",
       "    <tr>\n",
       "      <th>2016-01-31</th>\n",
       "      <td>5150177.05</td>\n",
       "      <td>959810.79</td>\n",
       "    </tr>\n",
       "    <tr>\n",
       "      <th>2016-02-29</th>\n",
       "      <td>5165624.91</td>\n",
       "      <td>962920.27</td>\n",
       "    </tr>\n",
       "    <tr>\n",
       "      <th>2016-03-31</th>\n",
       "      <td>5180918.30</td>\n",
       "      <td>965998.66</td>\n",
       "    </tr>\n",
       "    <tr>\n",
       "      <th>2016-04-30</th>\n",
       "      <td>5196058.75</td>\n",
       "      <td>969046.27</td>\n",
       "    </tr>\n",
       "    <tr>\n",
       "      <th>2016-05-31</th>\n",
       "      <td>5211047.79</td>\n",
       "      <td>972063.40</td>\n",
       "    </tr>\n",
       "    <tr>\n",
       "      <th>2016-06-30</th>\n",
       "      <td>5225886.95</td>\n",
       "      <td>975050.36</td>\n",
       "    </tr>\n",
       "    <tr>\n",
       "      <th>2016-07-31</th>\n",
       "      <td>5240577.71</td>\n",
       "      <td>978007.45</td>\n",
       "    </tr>\n",
       "    <tr>\n",
       "      <th>2016-08-31</th>\n",
       "      <td>5255121.57</td>\n",
       "      <td>980934.97</td>\n",
       "    </tr>\n",
       "    <tr>\n",
       "      <th>2016-09-30</th>\n",
       "      <td>5269519.98</td>\n",
       "      <td>983833.21</td>\n",
       "    </tr>\n",
       "    <tr>\n",
       "      <th>2016-10-31</th>\n",
       "      <td>5283774.42</td>\n",
       "      <td>986702.47</td>\n",
       "    </tr>\n",
       "    <tr>\n",
       "      <th>2016-11-30</th>\n",
       "      <td>5297886.30</td>\n",
       "      <td>989543.04</td>\n",
       "    </tr>\n",
       "    <tr>\n",
       "      <th>2016-12-31</th>\n",
       "      <td>5311857.07</td>\n",
       "      <td>992355.20</td>\n",
       "    </tr>\n",
       "  </tbody>\n",
       "</table>\n",
       "</div>"
      ],
      "text/plain": [
       "            sales_total   quantity\n",
       "sale_date                         \n",
       "2015-07-31   5054157.33  940483.07\n",
       "2015-08-31   5070565.39  943785.83\n",
       "2015-09-30   5086809.37  947055.57\n",
       "2015-10-31   5102890.91  950292.61\n",
       "2015-11-30   5118811.64  953497.27\n",
       "2015-12-31   5134573.15  956669.89\n",
       "2016-01-31   5150177.05  959810.79\n",
       "2016-02-29   5165624.91  962920.27\n",
       "2016-03-31   5180918.30  965998.66\n",
       "2016-04-30   5196058.75  969046.27\n",
       "2016-05-31   5211047.79  972063.40\n",
       "2016-06-30   5225886.95  975050.36\n",
       "2016-07-31   5240577.71  978007.45\n",
       "2016-08-31   5255121.57  980934.97\n",
       "2016-09-30   5269519.98  983833.21\n",
       "2016-10-31   5283774.42  986702.47\n",
       "2016-11-30   5297886.30  989543.04\n",
       "2016-12-31   5311857.07  992355.20"
      ]
     },
     "execution_count": 30,
     "metadata": {},
     "output_type": "execute_result"
    }
   ],
   "source": [
    "yhat_df"
   ]
  },
  {
   "cell_type": "markdown",
   "id": "f755b9db-c2f0-4aeb-8079-c6b6f5963bef",
   "metadata": {},
   "source": [
    "#### Plot Actual vs. Predicted Values"
   ]
  },
  {
   "cell_type": "code",
   "execution_count": 31,
   "id": "c476ddcc-3534-4e2c-bd69-2d7135c9712f",
   "metadata": {},
   "outputs": [
    {
     "name": "stdout",
     "output_type": "stream",
     "text": [
      "sales_total -- RMSE: 1005557\n"
     ]
    },
    {
     "data": {
      "image/png": "[encoded data removed]",
      "text/plain": [
       "<Figure size 864x288 with 1 Axes>"
      ]
     },
     "metadata": {
      "needs_background": "light"
     },
     "output_type": "display_data"
    },
    {
     "name": "stdout",
     "output_type": "stream",
     "text": [
      "quantity -- RMSE: 188450\n"
     ]
    },
    {
     "data": {
      "image/png": "[encoded data removed]",
      "text/plain": [
       "<Figure size 864x288 with 1 Axes>"
      ]
     },
     "metadata": {
      "needs_background": "light"
     },
     "output_type": "display_data"
    }
   ],
   "source": [
    "for col in train.columns:\n",
    "    plot_and_eval(target_var = col)"
   ]
  },
  {
   "cell_type": "markdown",
   "id": "59d7ed14-ffdc-4fc8-a31f-98eb0fbce3aa",
   "metadata": {},
   "source": [
    "#### Evaluate"
   ]
  },
  {
   "cell_type": "code",
   "execution_count": 32,
   "id": "a389ea80-cbe2-4832-a037-29217545651c",
   "metadata": {},
   "outputs": [],
   "source": [
    "for col in train.columns:\n",
    "    eval_df = append_eval_df(model_type = 'holts_optimized',\n",
    "                             target_var = col)"
   ]
  },
  {
   "cell_type": "code",
   "execution_count": 33,
   "id": "68894c2e-1ff5-4d30-b5dd-5aa4346fbe5b",
   "metadata": {},
   "outputs": [
    {
     "data": {
      "text/html": [
       "<div>\n",
       "<style scoped>\n",
       "    .dataframe tbody tr th:only-of-type {\n",
       "        vertical-align: middle;\n",
       "    }\n",
       "\n",
       "    .dataframe tbody tr th {\n",
       "        vertical-align: top;\n",
       "    }\n",
       "\n",
       "    .dataframe thead th {\n",
       "        text-align: right;\n",
       "    }\n",
       "</style>\n",
       "<table border=\"1\" class=\"dataframe\">\n",
       "  <thead>\n",
       "    <tr style=\"text-align: right;\">\n",
       "      <th></th>\n",
       "      <th>model_type</th>\n",
       "      <th>target_var</th>\n",
       "      <th>rmse</th>\n",
       "    </tr>\n",
       "  </thead>\n",
       "  <tbody>\n",
       "    <tr>\n",
       "      <th>7</th>\n",
       "      <td>4_month_moving_avg</td>\n",
       "      <td>quantity</td>\n",
       "      <td>151640.0</td>\n",
       "    </tr>\n",
       "    <tr>\n",
       "      <th>3</th>\n",
       "      <td>3M_moving_avg</td>\n",
       "      <td>quantity</td>\n",
       "      <td>157415.0</td>\n",
       "    </tr>\n",
       "    <tr>\n",
       "      <th>11</th>\n",
       "      <td>12_month_moving_avg</td>\n",
       "      <td>quantity</td>\n",
       "      <td>170156.0</td>\n",
       "    </tr>\n",
       "    <tr>\n",
       "      <th>5</th>\n",
       "      <td>1_month_moving_avg</td>\n",
       "      <td>quantity</td>\n",
       "      <td>172989.0</td>\n",
       "    </tr>\n",
       "    <tr>\n",
       "      <th>9</th>\n",
       "      <td>6_month_moving_avg</td>\n",
       "      <td>quantity</td>\n",
       "      <td>181664.0</td>\n",
       "    </tr>\n",
       "    <tr>\n",
       "      <th>13</th>\n",
       "      <td>holts_optimized</td>\n",
       "      <td>quantity</td>\n",
       "      <td>188450.0</td>\n",
       "    </tr>\n",
       "    <tr>\n",
       "      <th>1</th>\n",
       "      <td>simple_average</td>\n",
       "      <td>quantity</td>\n",
       "      <td>202312.0</td>\n",
       "    </tr>\n",
       "    <tr>\n",
       "      <th>6</th>\n",
       "      <td>4_month_moving_avg</td>\n",
       "      <td>sales_total</td>\n",
       "      <td>815097.0</td>\n",
       "    </tr>\n",
       "    <tr>\n",
       "      <th>2</th>\n",
       "      <td>3M_moving_avg</td>\n",
       "      <td>sales_total</td>\n",
       "      <td>846105.0</td>\n",
       "    </tr>\n",
       "    <tr>\n",
       "      <th>10</th>\n",
       "      <td>12_month_moving_avg</td>\n",
       "      <td>sales_total</td>\n",
       "      <td>914659.0</td>\n",
       "    </tr>\n",
       "    <tr>\n",
       "      <th>4</th>\n",
       "      <td>1_month_moving_avg</td>\n",
       "      <td>sales_total</td>\n",
       "      <td>929649.0</td>\n",
       "    </tr>\n",
       "    <tr>\n",
       "      <th>8</th>\n",
       "      <td>6_month_moving_avg</td>\n",
       "      <td>sales_total</td>\n",
       "      <td>976250.0</td>\n",
       "    </tr>\n",
       "    <tr>\n",
       "      <th>12</th>\n",
       "      <td>holts_optimized</td>\n",
       "      <td>sales_total</td>\n",
       "      <td>1005557.0</td>\n",
       "    </tr>\n",
       "    <tr>\n",
       "      <th>0</th>\n",
       "      <td>simple_average</td>\n",
       "      <td>sales_total</td>\n",
       "      <td>1087281.0</td>\n",
       "    </tr>\n",
       "  </tbody>\n",
       "</table>\n",
       "</div>"
      ],
      "text/plain": [
       "             model_type   target_var       rmse\n",
       "7    4_month_moving_avg     quantity   151640.0\n",
       "3         3M_moving_avg     quantity   157415.0\n",
       "11  12_month_moving_avg     quantity   170156.0\n",
       "5    1_month_moving_avg     quantity   172989.0\n",
       "9    6_month_moving_avg     quantity   181664.0\n",
       "13      holts_optimized     quantity   188450.0\n",
       "1        simple_average     quantity   202312.0\n",
       "6    4_month_moving_avg  sales_total   815097.0\n",
       "2         3M_moving_avg  sales_total   846105.0\n",
       "10  12_month_moving_avg  sales_total   914659.0\n",
       "4    1_month_moving_avg  sales_total   929649.0\n",
       "8    6_month_moving_avg  sales_total   976250.0\n",
       "12      holts_optimized  sales_total  1005557.0\n",
       "0        simple_average  sales_total  1087281.0"
      ]
     },
     "execution_count": 33,
     "metadata": {},
     "output_type": "execute_result"
    }
   ],
   "source": [
    "eval_df.sort_values(by = 'rmse')"
   ]
  },
  {
   "cell_type": "code",
   "execution_count": 34,
   "id": "f8c950c9-4597-4620-9dde-6fda9241a7cd",
   "metadata": {},
   "outputs": [],
   "source": [
    "for col in train.columns:\n",
    "    #create the Holt object\n",
    "    model = Holt(train[col], exponential=False)\n",
    "    #fit the model\n",
    "    model = model.fit(smoothing_level = .1,\n",
    "                      smoothing_slope = .1,\n",
    "                      optimized=False)\n",
    "    #make predictions for each date in validate\n",
    "    yhat_items = model.predict(start = validate.index[0],\n",
    "                               end = validate.index[-1])\n",
    "    #add predictions to the yhat_df\n",
    "    yhat_df[col] = round(yhat_items, 2)"
   ]
  },
  {
   "cell_type": "code",
   "execution_count": 35,
   "id": "7b598e4d-da39-46ad-bd13-419e39141619",
   "metadata": {},
   "outputs": [
    {
     "data": {
      "text/html": [
       "<div>\n",
       "<style scoped>\n",
       "    .dataframe tbody tr th:only-of-type {\n",
       "        vertical-align: middle;\n",
       "    }\n",
       "\n",
       "    .dataframe tbody tr th {\n",
       "        vertical-align: top;\n",
       "    }\n",
       "\n",
       "    .dataframe thead th {\n",
       "        text-align: right;\n",
       "    }\n",
       "</style>\n",
       "<table border=\"1\" class=\"dataframe\">\n",
       "  <thead>\n",
       "    <tr style=\"text-align: right;\">\n",
       "      <th></th>\n",
       "      <th>sales_total</th>\n",
       "      <th>quantity</th>\n",
       "    </tr>\n",
       "    <tr>\n",
       "      <th>sale_date</th>\n",
       "      <th></th>\n",
       "      <th></th>\n",
       "    </tr>\n",
       "  </thead>\n",
       "  <tbody>\n",
       "    <tr>\n",
       "      <th>2015-07-31</th>\n",
       "      <td>4596459.52</td>\n",
       "      <td>855377.35</td>\n",
       "    </tr>\n",
       "    <tr>\n",
       "      <th>2015-08-31</th>\n",
       "      <td>4639953.13</td>\n",
       "      <td>863429.72</td>\n",
       "    </tr>\n",
       "    <tr>\n",
       "      <th>2015-09-30</th>\n",
       "      <td>4683446.73</td>\n",
       "      <td>871482.09</td>\n",
       "    </tr>\n",
       "    <tr>\n",
       "      <th>2015-10-31</th>\n",
       "      <td>4726940.34</td>\n",
       "      <td>879534.45</td>\n",
       "    </tr>\n",
       "    <tr>\n",
       "      <th>2015-11-30</th>\n",
       "      <td>4770433.94</td>\n",
       "      <td>887586.82</td>\n",
       "    </tr>\n",
       "    <tr>\n",
       "      <th>2015-12-31</th>\n",
       "      <td>4813927.55</td>\n",
       "      <td>895639.19</td>\n",
       "    </tr>\n",
       "    <tr>\n",
       "      <th>2016-01-31</th>\n",
       "      <td>4857421.15</td>\n",
       "      <td>903691.55</td>\n",
       "    </tr>\n",
       "    <tr>\n",
       "      <th>2016-02-29</th>\n",
       "      <td>4900914.75</td>\n",
       "      <td>911743.92</td>\n",
       "    </tr>\n",
       "    <tr>\n",
       "      <th>2016-03-31</th>\n",
       "      <td>4944408.36</td>\n",
       "      <td>919796.29</td>\n",
       "    </tr>\n",
       "    <tr>\n",
       "      <th>2016-04-30</th>\n",
       "      <td>4987901.96</td>\n",
       "      <td>927848.65</td>\n",
       "    </tr>\n",
       "    <tr>\n",
       "      <th>2016-05-31</th>\n",
       "      <td>5031395.57</td>\n",
       "      <td>935901.02</td>\n",
       "    </tr>\n",
       "    <tr>\n",
       "      <th>2016-06-30</th>\n",
       "      <td>5074889.17</td>\n",
       "      <td>943953.39</td>\n",
       "    </tr>\n",
       "    <tr>\n",
       "      <th>2016-07-31</th>\n",
       "      <td>5118382.78</td>\n",
       "      <td>952005.76</td>\n",
       "    </tr>\n",
       "    <tr>\n",
       "      <th>2016-08-31</th>\n",
       "      <td>5161876.38</td>\n",
       "      <td>960058.12</td>\n",
       "    </tr>\n",
       "    <tr>\n",
       "      <th>2016-09-30</th>\n",
       "      <td>5205369.99</td>\n",
       "      <td>968110.49</td>\n",
       "    </tr>\n",
       "    <tr>\n",
       "      <th>2016-10-31</th>\n",
       "      <td>5248863.59</td>\n",
       "      <td>976162.86</td>\n",
       "    </tr>\n",
       "    <tr>\n",
       "      <th>2016-11-30</th>\n",
       "      <td>5292357.19</td>\n",
       "      <td>984215.22</td>\n",
       "    </tr>\n",
       "    <tr>\n",
       "      <th>2016-12-31</th>\n",
       "      <td>5335850.80</td>\n",
       "      <td>992267.59</td>\n",
       "    </tr>\n",
       "  </tbody>\n",
       "</table>\n",
       "</div>"
      ],
      "text/plain": [
       "            sales_total   quantity\n",
       "sale_date                         \n",
       "2015-07-31   4596459.52  855377.35\n",
       "2015-08-31   4639953.13  863429.72\n",
       "2015-09-30   4683446.73  871482.09\n",
       "2015-10-31   4726940.34  879534.45\n",
       "2015-11-30   4770433.94  887586.82\n",
       "2015-12-31   4813927.55  895639.19\n",
       "2016-01-31   4857421.15  903691.55\n",
       "2016-02-29   4900914.75  911743.92\n",
       "2016-03-31   4944408.36  919796.29\n",
       "2016-04-30   4987901.96  927848.65\n",
       "2016-05-31   5031395.57  935901.02\n",
       "2016-06-30   5074889.17  943953.39\n",
       "2016-07-31   5118382.78  952005.76\n",
       "2016-08-31   5161876.38  960058.12\n",
       "2016-09-30   5205369.99  968110.49\n",
       "2016-10-31   5248863.59  976162.86\n",
       "2016-11-30   5292357.19  984215.22\n",
       "2016-12-31   5335850.80  992267.59"
      ]
     },
     "execution_count": 35,
     "metadata": {},
     "output_type": "execute_result"
    }
   ],
   "source": [
    "yhat_df"
   ]
  },
  {
   "cell_type": "code",
   "execution_count": 36,
   "id": "3a9d2e1f-3ad9-44f6-a17a-f1f04a77ee43",
   "metadata": {},
   "outputs": [
    {
     "name": "stdout",
     "output_type": "stream",
     "text": [
      "sales_total -- RMSE: 902319\n"
     ]
    },
    {
     "data": {
      "image/png": "[encoded data removed]",
      "text/plain": [
       "<Figure size 864x288 with 1 Axes>"
      ]
     },
     "metadata": {
      "needs_background": "light"
     },
     "output_type": "display_data"
    },
    {
     "name": "stdout",
     "output_type": "stream",
     "text": [
      "quantity -- RMSE: 167821\n"
     ]
    },
    {
     "data": {
      "image/png": "[encoded data removed]",
      "text/plain": [
       "<Figure size 864x288 with 1 Axes>"
      ]
     },
     "metadata": {
      "needs_background": "light"
     },
     "output_type": "display_data"
    }
   ],
   "source": [
    "for col in train.columns:\n",
    "    plot_and_eval(target_var = col)"
   ]
  },
  {
   "cell_type": "code",
   "execution_count": 37,
   "id": "7deff764-dcfc-4124-95cc-4b4307d55477",
   "metadata": {},
   "outputs": [],
   "source": [
    "for col in train.columns:\n",
    "    eval_df = append_eval_df(model_type = 'holts_optimized.1',\n",
    "                             target_var = col)"
   ]
  },
  {
   "cell_type": "code",
   "execution_count": 38,
   "id": "756afc61-bd00-40df-95ab-b5e1f1bfdc03",
   "metadata": {},
   "outputs": [
    {
     "data": {
      "text/html": [
       "<div>\n",
       "<style scoped>\n",
       "    .dataframe tbody tr th:only-of-type {\n",
       "        vertical-align: middle;\n",
       "    }\n",
       "\n",
       "    .dataframe tbody tr th {\n",
       "        vertical-align: top;\n",
       "    }\n",
       "\n",
       "    .dataframe thead th {\n",
       "        text-align: right;\n",
       "    }\n",
       "</style>\n",
       "<table border=\"1\" class=\"dataframe\">\n",
       "  <thead>\n",
       "    <tr style=\"text-align: right;\">\n",
       "      <th></th>\n",
       "      <th>model_type</th>\n",
       "      <th>target_var</th>\n",
       "      <th>rmse</th>\n",
       "    </tr>\n",
       "  </thead>\n",
       "  <tbody>\n",
       "    <tr>\n",
       "      <th>0</th>\n",
       "      <td>simple_average</td>\n",
       "      <td>sales_total</td>\n",
       "      <td>1087281.0</td>\n",
       "    </tr>\n",
       "    <tr>\n",
       "      <th>1</th>\n",
       "      <td>simple_average</td>\n",
       "      <td>quantity</td>\n",
       "      <td>202312.0</td>\n",
       "    </tr>\n",
       "    <tr>\n",
       "      <th>2</th>\n",
       "      <td>3M_moving_avg</td>\n",
       "      <td>sales_total</td>\n",
       "      <td>846105.0</td>\n",
       "    </tr>\n",
       "    <tr>\n",
       "      <th>3</th>\n",
       "      <td>3M_moving_avg</td>\n",
       "      <td>quantity</td>\n",
       "      <td>157415.0</td>\n",
       "    </tr>\n",
       "    <tr>\n",
       "      <th>4</th>\n",
       "      <td>1_month_moving_avg</td>\n",
       "      <td>sales_total</td>\n",
       "      <td>929649.0</td>\n",
       "    </tr>\n",
       "    <tr>\n",
       "      <th>5</th>\n",
       "      <td>1_month_moving_avg</td>\n",
       "      <td>quantity</td>\n",
       "      <td>172989.0</td>\n",
       "    </tr>\n",
       "    <tr>\n",
       "      <th>6</th>\n",
       "      <td>4_month_moving_avg</td>\n",
       "      <td>sales_total</td>\n",
       "      <td>815097.0</td>\n",
       "    </tr>\n",
       "    <tr>\n",
       "      <th>7</th>\n",
       "      <td>4_month_moving_avg</td>\n",
       "      <td>quantity</td>\n",
       "      <td>151640.0</td>\n",
       "    </tr>\n",
       "    <tr>\n",
       "      <th>8</th>\n",
       "      <td>6_month_moving_avg</td>\n",
       "      <td>sales_total</td>\n",
       "      <td>976250.0</td>\n",
       "    </tr>\n",
       "    <tr>\n",
       "      <th>9</th>\n",
       "      <td>6_month_moving_avg</td>\n",
       "      <td>quantity</td>\n",
       "      <td>181664.0</td>\n",
       "    </tr>\n",
       "    <tr>\n",
       "      <th>10</th>\n",
       "      <td>12_month_moving_avg</td>\n",
       "      <td>sales_total</td>\n",
       "      <td>914659.0</td>\n",
       "    </tr>\n",
       "    <tr>\n",
       "      <th>11</th>\n",
       "      <td>12_month_moving_avg</td>\n",
       "      <td>quantity</td>\n",
       "      <td>170156.0</td>\n",
       "    </tr>\n",
       "    <tr>\n",
       "      <th>12</th>\n",
       "      <td>holts_optimized</td>\n",
       "      <td>sales_total</td>\n",
       "      <td>1005557.0</td>\n",
       "    </tr>\n",
       "    <tr>\n",
       "      <th>13</th>\n",
       "      <td>holts_optimized</td>\n",
       "      <td>quantity</td>\n",
       "      <td>188450.0</td>\n",
       "    </tr>\n",
       "    <tr>\n",
       "      <th>14</th>\n",
       "      <td>holts_optimized.1</td>\n",
       "      <td>sales_total</td>\n",
       "      <td>902319.0</td>\n",
       "    </tr>\n",
       "    <tr>\n",
       "      <th>15</th>\n",
       "      <td>holts_optimized.1</td>\n",
       "      <td>quantity</td>\n",
       "      <td>167821.0</td>\n",
       "    </tr>\n",
       "  </tbody>\n",
       "</table>\n",
       "</div>"
      ],
      "text/plain": [
       "             model_type   target_var       rmse\n",
       "0        simple_average  sales_total  1087281.0\n",
       "1        simple_average     quantity   202312.0\n",
       "2         3M_moving_avg  sales_total   846105.0\n",
       "3         3M_moving_avg     quantity   157415.0\n",
       "4    1_month_moving_avg  sales_total   929649.0\n",
       "5    1_month_moving_avg     quantity   172989.0\n",
       "6    4_month_moving_avg  sales_total   815097.0\n",
       "7    4_month_moving_avg     quantity   151640.0\n",
       "8    6_month_moving_avg  sales_total   976250.0\n",
       "9    6_month_moving_avg     quantity   181664.0\n",
       "10  12_month_moving_avg  sales_total   914659.0\n",
       "11  12_month_moving_avg     quantity   170156.0\n",
       "12      holts_optimized  sales_total  1005557.0\n",
       "13      holts_optimized     quantity   188450.0\n",
       "14    holts_optimized.1  sales_total   902319.0\n",
       "15    holts_optimized.1     quantity   167821.0"
      ]
     },
     "execution_count": 38,
     "metadata": {},
     "output_type": "execute_result"
    }
   ],
   "source": [
    "eval_df"
   ]
  },
  {
   "cell_type": "markdown",
   "id": "e8540fe7-c040-4c2c-ad41-f7b5c832e017",
   "metadata": {},
   "source": [
    "### PREVIOUS CYCLE"
   ]
  },
  {
   "cell_type": "markdown",
   "id": "d7c7d506-0432-4cfb-ba78-e0d93b0dce6d",
   "metadata": {},
   "source": [
    "#### Re-split Data"
   ]
  },
  {
   "cell_type": "code",
   "execution_count": 39,
   "id": "d8f6c7e1-d444-44f5-9b87-ec02be072c04",
   "metadata": {},
   "outputs": [],
   "source": [
    "train = df[: '2015']\n",
    "validate = df['2016']\n",
    "test = df['2017']"
   ]
  },
  {
   "cell_type": "code",
   "execution_count": 40,
   "id": "affbb58b-13d6-4c7c-bcda-03b1c48b122f",
   "metadata": {},
   "outputs": [
    {
     "data": {
      "text/html": [
       "<div>\n",
       "<style scoped>\n",
       "    .dataframe tbody tr th:only-of-type {\n",
       "        vertical-align: middle;\n",
       "    }\n",
       "\n",
       "    .dataframe tbody tr th {\n",
       "        vertical-align: top;\n",
       "    }\n",
       "\n",
       "    .dataframe thead th {\n",
       "        text-align: right;\n",
       "    }\n",
       "</style>\n",
       "<table border=\"1\" class=\"dataframe\">\n",
       "  <thead>\n",
       "    <tr style=\"text-align: right;\">\n",
       "      <th></th>\n",
       "      <th>sales_total</th>\n",
       "      <th>quantity</th>\n",
       "    </tr>\n",
       "    <tr>\n",
       "      <th>sale_date</th>\n",
       "      <th></th>\n",
       "      <th></th>\n",
       "    </tr>\n",
       "  </thead>\n",
       "  <tbody>\n",
       "    <tr>\n",
       "      <th>2016-01-31</th>\n",
       "      <td>3237958.05</td>\n",
       "      <td>602439.0</td>\n",
       "    </tr>\n",
       "    <tr>\n",
       "      <th>2016-02-29</th>\n",
       "      <td>3305673.92</td>\n",
       "      <td>614957.0</td>\n",
       "    </tr>\n",
       "    <tr>\n",
       "      <th>2016-03-31</th>\n",
       "      <td>4252694.79</td>\n",
       "      <td>790881.0</td>\n",
       "    </tr>\n",
       "    <tr>\n",
       "      <th>2016-04-30</th>\n",
       "      <td>4851928.10</td>\n",
       "      <td>901950.0</td>\n",
       "    </tr>\n",
       "    <tr>\n",
       "      <th>2016-05-31</th>\n",
       "      <td>5316288.92</td>\n",
       "      <td>988730.0</td>\n",
       "    </tr>\n",
       "    <tr>\n",
       "      <th>2016-06-30</th>\n",
       "      <td>5494743.33</td>\n",
       "      <td>1022664.0</td>\n",
       "    </tr>\n",
       "    <tr>\n",
       "      <th>2016-07-31</th>\n",
       "      <td>6121775.95</td>\n",
       "      <td>1138718.0</td>\n",
       "    </tr>\n",
       "    <tr>\n",
       "      <th>2016-08-31</th>\n",
       "      <td>5274888.27</td>\n",
       "      <td>981494.0</td>\n",
       "    </tr>\n",
       "    <tr>\n",
       "      <th>2016-09-30</th>\n",
       "      <td>4820008.80</td>\n",
       "      <td>896831.0</td>\n",
       "    </tr>\n",
       "    <tr>\n",
       "      <th>2016-10-31</th>\n",
       "      <td>4642533.97</td>\n",
       "      <td>863637.0</td>\n",
       "    </tr>\n",
       "    <tr>\n",
       "      <th>2016-11-30</th>\n",
       "      <td>4792988.38</td>\n",
       "      <td>891448.0</td>\n",
       "    </tr>\n",
       "    <tr>\n",
       "      <th>2016-12-31</th>\n",
       "      <td>3563185.99</td>\n",
       "      <td>663411.0</td>\n",
       "    </tr>\n",
       "  </tbody>\n",
       "</table>\n",
       "</div>"
      ],
      "text/plain": [
       "            sales_total   quantity\n",
       "sale_date                         \n",
       "2016-01-31   3237958.05   602439.0\n",
       "2016-02-29   3305673.92   614957.0\n",
       "2016-03-31   4252694.79   790881.0\n",
       "2016-04-30   4851928.10   901950.0\n",
       "2016-05-31   5316288.92   988730.0\n",
       "2016-06-30   5494743.33  1022664.0\n",
       "2016-07-31   6121775.95  1138718.0\n",
       "2016-08-31   5274888.27   981494.0\n",
       "2016-09-30   4820008.80   896831.0\n",
       "2016-10-31   4642533.97   863637.0\n",
       "2016-11-30   4792988.38   891448.0\n",
       "2016-12-31   3563185.99   663411.0"
      ]
     },
     "execution_count": 40,
     "metadata": {},
     "output_type": "execute_result"
    }
   ],
   "source": [
    "validate"
   ]
  },
  {
   "cell_type": "code",
   "execution_count": 41,
   "id": "3792bd95-ed2f-42d9-bafd-b362884ac6a1",
   "metadata": {},
   "outputs": [
    {
     "name": "stdout",
     "output_type": "stream",
     "text": [
      "(36, 2)\n",
      "(12, 2)\n",
      "(12, 2)\n"
     ]
    }
   ],
   "source": [
    "print(train.shape)\n",
    "print(validate.shape)\n",
    "print(test.shape)"
   ]
  },
  {
   "cell_type": "markdown",
   "id": "ce35342d-d1de-4006-a24b-8ee4a9aad0ab",
   "metadata": {},
   "source": [
    "#### Make Predictions"
   ]
  },
  {
   "cell_type": "code",
   "execution_count": 42,
   "id": "b7aa8034-b1aa-462b-bd12-5e046ddc08d2",
   "metadata": {},
   "outputs": [],
   "source": [
    "yhat_df = train['2015'] + train.diff(12).mean()"
   ]
  },
  {
   "cell_type": "code",
   "execution_count": 43,
   "id": "f3a4ae5b-a151-4c96-89a6-7f0f90c9e576",
   "metadata": {},
   "outputs": [
    {
     "data": {
      "text/html": [
       "<div>\n",
       "<style scoped>\n",
       "    .dataframe tbody tr th:only-of-type {\n",
       "        vertical-align: middle;\n",
       "    }\n",
       "\n",
       "    .dataframe tbody tr th {\n",
       "        vertical-align: top;\n",
       "    }\n",
       "\n",
       "    .dataframe thead th {\n",
       "        text-align: right;\n",
       "    }\n",
       "</style>\n",
       "<table border=\"1\" class=\"dataframe\">\n",
       "  <thead>\n",
       "    <tr style=\"text-align: right;\">\n",
       "      <th></th>\n",
       "      <th>sales_total</th>\n",
       "      <th>quantity</th>\n",
       "    </tr>\n",
       "    <tr>\n",
       "      <th>sale_date</th>\n",
       "      <th></th>\n",
       "      <th></th>\n",
       "    </tr>\n",
       "  </thead>\n",
       "  <tbody>\n",
       "    <tr>\n",
       "      <th>2015-01-31</th>\n",
       "      <td>3.329175e+06</td>\n",
       "      <td>618998.166667</td>\n",
       "    </tr>\n",
       "    <tr>\n",
       "      <th>2015-02-28</th>\n",
       "      <td>3.319692e+06</td>\n",
       "      <td>617802.166667</td>\n",
       "    </tr>\n",
       "    <tr>\n",
       "      <th>2015-03-31</th>\n",
       "      <td>4.290394e+06</td>\n",
       "      <td>797436.166667</td>\n",
       "    </tr>\n",
       "    <tr>\n",
       "      <th>2015-04-30</th>\n",
       "      <td>4.784648e+06</td>\n",
       "      <td>890952.166667</td>\n",
       "    </tr>\n",
       "    <tr>\n",
       "      <th>2015-05-31</th>\n",
       "      <td>5.345546e+06</td>\n",
       "      <td>993387.166667</td>\n",
       "    </tr>\n",
       "  </tbody>\n",
       "</table>\n",
       "</div>"
      ],
      "text/plain": [
       "             sales_total       quantity\n",
       "sale_date                              \n",
       "2015-01-31  3.329175e+06  618998.166667\n",
       "2015-02-28  3.319692e+06  617802.166667\n",
       "2015-03-31  4.290394e+06  797436.166667\n",
       "2015-04-30  4.784648e+06  890952.166667\n",
       "2015-05-31  5.345546e+06  993387.166667"
      ]
     },
     "execution_count": 43,
     "metadata": {},
     "output_type": "execute_result"
    }
   ],
   "source": [
    "yhat_df.head()"
   ]
  },
  {
   "cell_type": "code",
   "execution_count": 44,
   "id": "07c5fd04-814c-498f-9543-670d1653ddc8",
   "metadata": {},
   "outputs": [
    {
     "data": {
      "text/plain": [
       "(12, 2)"
      ]
     },
     "execution_count": 44,
     "metadata": {},
     "output_type": "execute_result"
    }
   ],
   "source": [
    "yhat_df.shape"
   ]
  },
  {
   "cell_type": "code",
   "execution_count": 45,
   "id": "19a7df1a-45e9-42b0-89e1-5b2eeda907aa",
   "metadata": {},
   "outputs": [
    {
     "data": {
      "text/html": [
       "<div>\n",
       "<style scoped>\n",
       "    .dataframe tbody tr th:only-of-type {\n",
       "        vertical-align: middle;\n",
       "    }\n",
       "\n",
       "    .dataframe tbody tr th {\n",
       "        vertical-align: top;\n",
       "    }\n",
       "\n",
       "    .dataframe thead th {\n",
       "        text-align: right;\n",
       "    }\n",
       "</style>\n",
       "<table border=\"1\" class=\"dataframe\">\n",
       "  <thead>\n",
       "    <tr style=\"text-align: right;\">\n",
       "      <th></th>\n",
       "      <th>sales_total</th>\n",
       "      <th>quantity</th>\n",
       "    </tr>\n",
       "    <tr>\n",
       "      <th>sale_date</th>\n",
       "      <th></th>\n",
       "      <th></th>\n",
       "    </tr>\n",
       "  </thead>\n",
       "  <tbody>\n",
       "    <tr>\n",
       "      <th>2015-01-31</th>\n",
       "      <td>2971740.70</td>\n",
       "      <td>552513.0</td>\n",
       "    </tr>\n",
       "    <tr>\n",
       "      <th>2015-02-28</th>\n",
       "      <td>2962257.74</td>\n",
       "      <td>551317.0</td>\n",
       "    </tr>\n",
       "    <tr>\n",
       "      <th>2015-03-31</th>\n",
       "      <td>3932960.55</td>\n",
       "      <td>730951.0</td>\n",
       "    </tr>\n",
       "    <tr>\n",
       "      <th>2015-04-30</th>\n",
       "      <td>4427214.12</td>\n",
       "      <td>824467.0</td>\n",
       "    </tr>\n",
       "    <tr>\n",
       "      <th>2015-05-31</th>\n",
       "      <td>4988111.92</td>\n",
       "      <td>926902.0</td>\n",
       "    </tr>\n",
       "  </tbody>\n",
       "</table>\n",
       "</div>"
      ],
      "text/plain": [
       "            sales_total  quantity\n",
       "sale_date                        \n",
       "2015-01-31   2971740.70  552513.0\n",
       "2015-02-28   2962257.74  551317.0\n",
       "2015-03-31   3932960.55  730951.0\n",
       "2015-04-30   4427214.12  824467.0\n",
       "2015-05-31   4988111.92  926902.0"
      ]
     },
     "execution_count": 45,
     "metadata": {},
     "output_type": "execute_result"
    }
   ],
   "source": [
    "train.loc['2015'].head()"
   ]
  },
  {
   "cell_type": "code",
   "execution_count": 46,
   "id": "ff8182a5-1706-43da-b8ca-e4a2ce956414",
   "metadata": {},
   "outputs": [
    {
     "data": {
      "text/html": [
       "<div>\n",
       "<style scoped>\n",
       "    .dataframe tbody tr th:only-of-type {\n",
       "        vertical-align: middle;\n",
       "    }\n",
       "\n",
       "    .dataframe tbody tr th {\n",
       "        vertical-align: top;\n",
       "    }\n",
       "\n",
       "    .dataframe thead th {\n",
       "        text-align: right;\n",
       "    }\n",
       "</style>\n",
       "<table border=\"1\" class=\"dataframe\">\n",
       "  <thead>\n",
       "    <tr style=\"text-align: right;\">\n",
       "      <th></th>\n",
       "      <th>sales_total</th>\n",
       "      <th>quantity</th>\n",
       "    </tr>\n",
       "    <tr>\n",
       "      <th>sale_date</th>\n",
       "      <th></th>\n",
       "      <th></th>\n",
       "    </tr>\n",
       "  </thead>\n",
       "  <tbody>\n",
       "    <tr>\n",
       "      <th>2015-01-31</th>\n",
       "      <td>3.329175e+06</td>\n",
       "      <td>618998.166667</td>\n",
       "    </tr>\n",
       "    <tr>\n",
       "      <th>2016-01-31</th>\n",
       "      <td>3.237958e+06</td>\n",
       "      <td>602439.000000</td>\n",
       "    </tr>\n",
       "  </tbody>\n",
       "</table>\n",
       "</div>"
      ],
      "text/plain": [
       "             sales_total       quantity\n",
       "sale_date                              \n",
       "2015-01-31  3.329175e+06  618998.166667\n",
       "2016-01-31  3.237958e+06  602439.000000"
      ]
     },
     "execution_count": 46,
     "metadata": {},
     "output_type": "execute_result"
    }
   ],
   "source": [
    "#view predictions that will be made for 2016 value\n",
    "pd.concat([yhat_df.head(1), validate.head(1)])"
   ]
  },
  {
   "cell_type": "code",
   "execution_count": 48,
   "id": "f5737b9c-f80e-4a31-84fd-a66cb98f98d0",
   "metadata": {},
   "outputs": [],
   "source": [
    "# set yhat_df to index of validate\n",
    "yhat_df.index = validate.index"
   ]
  },
  {
   "cell_type": "code",
   "execution_count": 50,
   "id": "f98bad90-64ea-44f7-95d9-1295de3d2181",
   "metadata": {},
   "outputs": [
    {
     "data": {
      "text/plain": [
       "(12, 2)"
      ]
     },
     "execution_count": 50,
     "metadata": {},
     "output_type": "execute_result"
    }
   ],
   "source": [
    "yhat_df.shape"
   ]
  },
  {
   "cell_type": "markdown",
   "id": "b466cd47-8b96-42b3-9a93-641e5ff5d096",
   "metadata": {},
   "source": [
    "#### Plot and Evaluate"
   ]
  },
  {
   "cell_type": "code",
   "execution_count": 51,
   "id": "c621e31c-ad25-45ca-b068-49122ddf05ed",
   "metadata": {},
   "outputs": [
    {
     "name": "stdout",
     "output_type": "stream",
     "text": [
      "sales_total -- RMSE: 75034\n"
     ]
    },
    {
     "data": {
      "image/png": "[encoded data removed]",
      "text/plain": [
       "<Figure size 864x288 with 1 Axes>"
      ]
     },
     "metadata": {
      "needs_background": "light"
     },
     "output_type": "display_data"
    },
    {
     "name": "stdout",
     "output_type": "stream",
     "text": [
      "quantity -- RMSE: 13676\n"
     ]
    },
    {
     "data": {
      "image/png": "[encoded data removed]",
      "text/plain": [
       "<Figure size 864x288 with 1 Axes>"
      ]
     },
     "metadata": {
      "needs_background": "light"
     },
     "output_type": "display_data"
    }
   ],
   "source": [
    "for col in train.columns:\n",
    "    plot_and_eval(target_var = col)\n",
    "    eval_df = append_eval_df(model_type = 'previous_year',\n",
    "                             target_var = col)"
   ]
  },
  {
   "cell_type": "markdown",
   "id": "89dcc39b-e6ac-46a8-aa78-e25b1ce7e39f",
   "metadata": {},
   "source": [
    "# Conclusion"
   ]
  },
  {
   "cell_type": "code",
   "execution_count": 52,
   "id": "f0efcec3-5750-4ada-97a7-01b271085498",
   "metadata": {},
   "outputs": [
    {
     "data": {
      "text/html": [
       "<div>\n",
       "<style scoped>\n",
       "    .dataframe tbody tr th:only-of-type {\n",
       "        vertical-align: middle;\n",
       "    }\n",
       "\n",
       "    .dataframe tbody tr th {\n",
       "        vertical-align: top;\n",
       "    }\n",
       "\n",
       "    .dataframe thead th {\n",
       "        text-align: right;\n",
       "    }\n",
       "</style>\n",
       "<table border=\"1\" class=\"dataframe\">\n",
       "  <thead>\n",
       "    <tr style=\"text-align: right;\">\n",
       "      <th></th>\n",
       "      <th>model_type</th>\n",
       "      <th>target_var</th>\n",
       "      <th>rmse</th>\n",
       "    </tr>\n",
       "  </thead>\n",
       "  <tbody>\n",
       "    <tr>\n",
       "      <th>16</th>\n",
       "      <td>previous_year</td>\n",
       "      <td>sales_total</td>\n",
       "      <td>75034.0</td>\n",
       "    </tr>\n",
       "    <tr>\n",
       "      <th>17</th>\n",
       "      <td>previous_year</td>\n",
       "      <td>quantity</td>\n",
       "      <td>13676.0</td>\n",
       "    </tr>\n",
       "  </tbody>\n",
       "</table>\n",
       "</div>"
      ],
      "text/plain": [
       "       model_type   target_var     rmse\n",
       "16  previous_year  sales_total  75034.0\n",
       "17  previous_year     quantity  13676.0"
      ]
     },
     "execution_count": 52,
     "metadata": {},
     "output_type": "execute_result"
    }
   ],
   "source": [
    "# best performing average\n",
    "min_sales_rmse = eval_df[eval_df.target_var == 'sales_total']['rmse'].min()\n",
    "min_quantity_rmse = eval_df[eval_df.target_var == 'quantity']['rmse'].min()\n",
    "\n",
    "eval_df[((eval_df.rmse == min_sales_rmse) |\n",
    "         (eval_df.rmse == min_quantity_rmse)\n",
    "        )]"
   ]
  },
  {
   "cell_type": "code",
   "execution_count": 53,
   "id": "23e57660-c930-4f95-b40d-6a9e425826f9",
   "metadata": {},
   "outputs": [],
   "source": [
    "yhat_df = validate + train.diff(12).mean()\n",
    "yhat_df.index = test.index"
   ]
  },
  {
   "cell_type": "code",
   "execution_count": 54,
   "id": "530914ca-3aa0-46c9-86dc-5d45ea5132dc",
   "metadata": {},
   "outputs": [
    {
     "data": {
      "text/html": [
       "<div>\n",
       "<style scoped>\n",
       "    .dataframe tbody tr th:only-of-type {\n",
       "        vertical-align: middle;\n",
       "    }\n",
       "\n",
       "    .dataframe tbody tr th {\n",
       "        vertical-align: top;\n",
       "    }\n",
       "\n",
       "    .dataframe thead th {\n",
       "        text-align: right;\n",
       "    }\n",
       "</style>\n",
       "<table border=\"1\" class=\"dataframe\">\n",
       "  <thead>\n",
       "    <tr style=\"text-align: right;\">\n",
       "      <th></th>\n",
       "      <th>sales_total</th>\n",
       "      <th>quantity</th>\n",
       "    </tr>\n",
       "    <tr>\n",
       "      <th>sale_date</th>\n",
       "      <th></th>\n",
       "      <th></th>\n",
       "    </tr>\n",
       "  </thead>\n",
       "  <tbody>\n",
       "    <tr>\n",
       "      <th>2017-01-31</th>\n",
       "      <td>3.595392e+06</td>\n",
       "      <td>6.689242e+05</td>\n",
       "    </tr>\n",
       "    <tr>\n",
       "      <th>2017-02-28</th>\n",
       "      <td>3.663108e+06</td>\n",
       "      <td>6.814422e+05</td>\n",
       "    </tr>\n",
       "    <tr>\n",
       "      <th>2017-03-31</th>\n",
       "      <td>4.610129e+06</td>\n",
       "      <td>8.573662e+05</td>\n",
       "    </tr>\n",
       "    <tr>\n",
       "      <th>2017-04-30</th>\n",
       "      <td>5.209362e+06</td>\n",
       "      <td>9.684352e+05</td>\n",
       "    </tr>\n",
       "    <tr>\n",
       "      <th>2017-05-31</th>\n",
       "      <td>5.673723e+06</td>\n",
       "      <td>1.055215e+06</td>\n",
       "    </tr>\n",
       "    <tr>\n",
       "      <th>2017-06-30</th>\n",
       "      <td>5.852177e+06</td>\n",
       "      <td>1.089149e+06</td>\n",
       "    </tr>\n",
       "    <tr>\n",
       "      <th>2017-07-31</th>\n",
       "      <td>6.479210e+06</td>\n",
       "      <td>1.205203e+06</td>\n",
       "    </tr>\n",
       "    <tr>\n",
       "      <th>2017-08-31</th>\n",
       "      <td>5.632322e+06</td>\n",
       "      <td>1.047979e+06</td>\n",
       "    </tr>\n",
       "    <tr>\n",
       "      <th>2017-09-30</th>\n",
       "      <td>5.177443e+06</td>\n",
       "      <td>9.633162e+05</td>\n",
       "    </tr>\n",
       "    <tr>\n",
       "      <th>2017-10-31</th>\n",
       "      <td>4.999968e+06</td>\n",
       "      <td>9.301222e+05</td>\n",
       "    </tr>\n",
       "    <tr>\n",
       "      <th>2017-11-30</th>\n",
       "      <td>5.150422e+06</td>\n",
       "      <td>9.579332e+05</td>\n",
       "    </tr>\n",
       "    <tr>\n",
       "      <th>2017-12-31</th>\n",
       "      <td>3.920620e+06</td>\n",
       "      <td>7.298962e+05</td>\n",
       "    </tr>\n",
       "  </tbody>\n",
       "</table>\n",
       "</div>"
      ],
      "text/plain": [
       "             sales_total      quantity\n",
       "sale_date                             \n",
       "2017-01-31  3.595392e+06  6.689242e+05\n",
       "2017-02-28  3.663108e+06  6.814422e+05\n",
       "2017-03-31  4.610129e+06  8.573662e+05\n",
       "2017-04-30  5.209362e+06  9.684352e+05\n",
       "2017-05-31  5.673723e+06  1.055215e+06\n",
       "2017-06-30  5.852177e+06  1.089149e+06\n",
       "2017-07-31  6.479210e+06  1.205203e+06\n",
       "2017-08-31  5.632322e+06  1.047979e+06\n",
       "2017-09-30  5.177443e+06  9.633162e+05\n",
       "2017-10-31  4.999968e+06  9.301222e+05\n",
       "2017-11-30  5.150422e+06  9.579332e+05\n",
       "2017-12-31  3.920620e+06  7.298962e+05"
      ]
     },
     "execution_count": 54,
     "metadata": {},
     "output_type": "execute_result"
    }
   ],
   "source": [
    "yhat_df"
   ]
  },
  {
   "cell_type": "code",
   "execution_count": 56,
   "id": "1db0ad2a-7b03-4329-90c2-e25078e0ee08",
   "metadata": {},
   "outputs": [],
   "source": [
    "def final_plot(target_var):\n",
    "    plt.figure(figsize=(12,4))\n",
    "    plt.plot(train[target_var], label='train')\n",
    "    plt.plot(validate[target_var], label='validate')\n",
    "    plt.plot(test[target_var], label='test')\n",
    "    plt.plot(yhat_df[target_var], alpha=.5)\n",
    "    plt.title(target_var)\n",
    "    plt.show()"
   ]
  },
  {
   "cell_type": "code",
   "execution_count": 58,
   "id": "922540ff-db6b-42f9-8c1f-d9ef9a331a36",
   "metadata": {},
   "outputs": [],
   "source": [
    "rmse_sales = sqrt(mean_squared_error(test['sales_total'], \n",
    "                                       yhat_df['sales_total']))\n",
    "\n",
    "rmse_quantity = sqrt(mean_squared_error(test['quantity'], \n",
    "                                       yhat_df['quantity']))"
   ]
  },
  {
   "cell_type": "code",
   "execution_count": 59,
   "id": "8e1f8abb-15f6-498a-8964-17d1d4761e19",
   "metadata": {},
   "outputs": [
    {
     "name": "stdout",
     "output_type": "stream",
     "text": [
      "rmse-sales-total:  197043.7254737363\n",
      "rmse-item-quantity:  36642.1370415567\n"
     ]
    }
   ],
   "source": [
    "print('rmse-sales-total: ', rmse_sales)\n",
    "print('rmse-item-quantity: ', rmse_quantity)"
   ]
  },
  {
   "cell_type": "code",
   "execution_count": 61,
   "id": "8431c22a-47c8-4c95-9f70-3877cbab9a41",
   "metadata": {},
   "outputs": [
    {
     "data": {
      "image/png": "[encoded data removed]",
      "text/plain": [
       "<Figure size 864x288 with 1 Axes>"
      ]
     },
     "metadata": {
      "needs_background": "light"
     },
     "output_type": "display_data"
    },
    {
     "data": {
      "image/png": "[encoded data removed]",
      "text/plain": [
       "<Figure size 864x288 with 1 Axes>"
      ]
     },
     "metadata": {
      "needs_background": "light"
     },
     "output_type": "display_data"
    }
   ],
   "source": [
    "for col in train.columns:\n",
    "    final_plot(col)"
   ]
  },
  {
   "cell_type": "code",
   "execution_count": 63,
   "id": "e9946fed-a35b-4bb3-b4f7-e3ba947a817d",
   "metadata": {},
   "outputs": [],
   "source": [
    "#to predict 2018\n",
    "\n",
    "yhat_df = test + train.diff(12).mean()\n",
    "yhat_df.index = test.index + pd.Timedelta('1Y')"
   ]
  },
  {
   "cell_type": "code",
   "execution_count": 64,
   "id": "4b8ff2e8-976e-4866-84d1-0568449f37b2",
   "metadata": {},
   "outputs": [
    {
     "data": {
      "image/png": "[encoded data removed]",
      "text/plain": [
       "<Figure size 864x288 with 1 Axes>"
      ]
     },
     "metadata": {
      "needs_background": "light"
     },
     "output_type": "display_data"
    },
    {
     "data": {
      "image/png": "[encoded data removed]",
      "text/plain": [
       "<Figure size 864x288 with 1 Axes>"
      ]
     },
     "metadata": {
      "needs_background": "light"
     },
     "output_type": "display_data"
    }
   ],
   "source": [
    "for col in train.columns:\n",
    "    final_plot(col)"
   ]
  },
  {
   "cell_type": "markdown",
   "id": "7b459581-4b33-4cbc-83b2-337259be9cfd",
   "metadata": {},
   "source": [
    "Optional: Using store item demand\n",
    "\n",
    "1. Predict 2018 total monthly sales for a single store and/or item by creating a model."
   ]
  },
  {
   "cell_type": "markdown",
   "id": "08456c45-38ab-4d47-b92c-e506b78bc9a8",
   "metadata": {},
   "source": [
    "2. Return a dataframe with the month, store_id, y-hat, and the confidence intervals (y-hat lower, y-hat upper)."
   ]
  },
  {
   "cell_type": "markdown",
   "id": "1ae044ad-99bd-41d5-a83a-2be7f40efd0b",
   "metadata": {},
   "source": [
    "3. Plot the 2018 monthly sales predictions."
   ]
  }
 ],
 "metadata": {
  "kernelspec": {
   "display_name": "Python 3 (ipykernel)",
   "language": "python",
   "name": "python3"
  },
  "language_info": {
   "codemirror_mode": {
    "name": "ipython",
    "version": 3
   },
   "file_extension": ".py",
   "mimetype": "text/x-python",
   "name": "python",
   "nbconvert_exporter": "python",
   "pygments_lexer": "ipython3",
   "version": "3.9.7"
  }
 },
 "nbformat": 4,
 "nbformat_minor": 5
}
