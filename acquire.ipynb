{
 "cells": [
  {
   "cell_type": "markdown",
   "id": "c6180605-3288-476c-93f4-f4a22d2d0001",
   "metadata": {},
   "source": [
    "# Acquire Exercises"
   ]
  },
  {
   "cell_type": "code",
   "execution_count": 1,
   "id": "59cecdbb-8604-4ed7-bba1-d9a6fb3dfb3f",
   "metadata": {},
   "outputs": [],
   "source": [
    "import requests\n",
    "import pandas as pd\n",
    "import acquire"
   ]
  },
  {
   "cell_type": "markdown",
   "id": "4c0609d8-139b-4b0b-ab07-ade88e333c27",
   "metadata": {},
   "source": [
    "1. Using the code from the lesson as a guide and the REST API from https://python.zgulde.net/api/v1/items as we did in the lesson, create a dataframe named items that has all of the data for items.\n",
    "- https://api.data.codeup.com"
   ]
  },
  {
   "cell_type": "code",
   "execution_count": 2,
   "id": "6d07679c-0c13-4681-a3ad-297c33c82239",
   "metadata": {},
   "outputs": [],
   "source": [
    "# look at just the base URL\n",
    "base_url = requests.get('https://api.data.codeup.com')"
   ]
  },
  {
   "cell_type": "code",
   "execution_count": 3,
   "id": "d081d502-e04a-44d8-9cf5-045f90d14328",
   "metadata": {},
   "outputs": [],
   "source": [
    "response = base_url"
   ]
  },
  {
   "cell_type": "code",
   "execution_count": 4,
   "id": "ade39c26-a164-47fa-9f9b-16828d710486",
   "metadata": {},
   "outputs": [
    {
     "name": "stdout",
     "output_type": "stream",
     "text": [
      "{\"api\":\"/api/v1\",\"help\":\"/documentation\"}\n",
      "\n"
     ]
    }
   ],
   "source": [
    "print(response.text)"
   ]
  },
  {
   "cell_type": "code",
   "execution_count": 5,
   "id": "3711372d-6829-4268-87dc-c92f2f8b6e1e",
   "metadata": {},
   "outputs": [
    {
     "name": "stdout",
     "output_type": "stream",
     "text": [
      "\n",
      "The API accepts GET requests for all endpoints, where endpoints are prefixed\n",
      "with\n",
      "\n",
      "    /api/{version}\n",
      "\n",
      "Where version is \"v1\"\n",
      "\n",
      "Valid endpoints:\n",
      "\n",
      "- /stores[/{store_id}]\n",
      "- /items[/{item_id}]\n",
      "- /sales[/{sale_id}]\n",
      "\n",
      "All endpoints accept a `page` parameter that can be used to navigate through\n",
      "the results.\n",
      "\n"
     ]
    }
   ],
   "source": [
    "# The API provides some documentation. Let's look at the documentation. \n",
    "url = 'https://api.data.codeup.com/documentation'\n",
    "response = requests.get(url)\n",
    "print(response.json()['payload'])"
   ]
  },
  {
   "cell_type": "code",
   "execution_count": 6,
   "id": "494fdcc4-1101-4122-89f9-4dfd643d352b",
   "metadata": {},
   "outputs": [
    {
     "data": {
      "text/plain": [
       "dict_keys(['payload', 'status'])"
      ]
     },
     "execution_count": 6,
     "metadata": {},
     "output_type": "execute_result"
    }
   ],
   "source": [
    "# Let's look at the items\n",
    "response = requests.get('https://api.data.codeup.com/api/v1/items')\n",
    "data = response.json()\n",
    "# look at dictionary keys\n",
    "data.keys()"
   ]
  },
  {
   "cell_type": "code",
   "execution_count": 7,
   "id": "08bf32f4-bae9-46ae-b84f-c3d4aa18ae63",
   "metadata": {},
   "outputs": [
    {
     "data": {
      "text/plain": [
       "dict_keys(['items', 'max_page', 'next_page', 'page', 'previous_page'])"
      ]
     },
     "execution_count": 7,
     "metadata": {},
     "output_type": "execute_result"
    }
   ],
   "source": [
    "# within payload, let's look at the keys/content\n",
    "data['payload'].keys()"
   ]
  },
  {
   "cell_type": "code",
   "execution_count": 8,
   "id": "9732c2ee-f217-45da-90e8-030350fdda72",
   "metadata": {},
   "outputs": [
    {
     "name": "stdout",
     "output_type": "stream",
     "text": [
      "current_page: 1\n",
      "max_page: 3\n",
      "next_page: /api/v1/items?page=2\n"
     ]
    }
   ],
   "source": [
    "# Use built-in properties to get to subsequent pages and look at the shape of the pages\n",
    "current_page = data['payload']['page']\n",
    "max_page = data['payload']['max_page']\n",
    "next_page = data['payload']['next_page']\n",
    "\n",
    "print(f'current_page: {current_page}')\n",
    "print(f'max_page: {max_page}')\n",
    "print(f'next_page: {next_page}')"
   ]
  },
  {
   "cell_type": "code",
   "execution_count": 9,
   "id": "382549a9-d162-4256-a5ed-3e8f4865dee5",
   "metadata": {},
   "outputs": [
    {
     "data": {
      "text/html": [
       "<div>\n",
       "<style scoped>\n",
       "    .dataframe tbody tr th:only-of-type {\n",
       "        vertical-align: middle;\n",
       "    }\n",
       "\n",
       "    .dataframe tbody tr th {\n",
       "        vertical-align: top;\n",
       "    }\n",
       "\n",
       "    .dataframe thead th {\n",
       "        text-align: right;\n",
       "    }\n",
       "</style>\n",
       "<table border=\"1\" class=\"dataframe\">\n",
       "  <thead>\n",
       "    <tr style=\"text-align: right;\">\n",
       "      <th></th>\n",
       "      <th>item_brand</th>\n",
       "      <th>item_id</th>\n",
       "      <th>item_name</th>\n",
       "      <th>item_price</th>\n",
       "      <th>item_upc12</th>\n",
       "      <th>item_upc14</th>\n",
       "    </tr>\n",
       "  </thead>\n",
       "  <tbody>\n",
       "    <tr>\n",
       "      <th>0</th>\n",
       "      <td>Riceland</td>\n",
       "      <td>1</td>\n",
       "      <td>Riceland American Jazmine Rice</td>\n",
       "      <td>0.84</td>\n",
       "      <td>35200264013</td>\n",
       "      <td>35200264013</td>\n",
       "    </tr>\n",
       "    <tr>\n",
       "      <th>1</th>\n",
       "      <td>Caress</td>\n",
       "      <td>2</td>\n",
       "      <td>Caress Velvet Bliss Ultra Silkening Beauty Bar...</td>\n",
       "      <td>6.44</td>\n",
       "      <td>11111065925</td>\n",
       "      <td>11111065925</td>\n",
       "    </tr>\n",
       "    <tr>\n",
       "      <th>2</th>\n",
       "      <td>Earths Best</td>\n",
       "      <td>3</td>\n",
       "      <td>Earths Best Organic Fruit Yogurt Smoothie Mixe...</td>\n",
       "      <td>2.43</td>\n",
       "      <td>23923330139</td>\n",
       "      <td>23923330139</td>\n",
       "    </tr>\n",
       "    <tr>\n",
       "      <th>3</th>\n",
       "      <td>Boars Head</td>\n",
       "      <td>4</td>\n",
       "      <td>Boars Head Sliced White American Cheese - 120 Ct</td>\n",
       "      <td>3.14</td>\n",
       "      <td>208528800007</td>\n",
       "      <td>208528800007</td>\n",
       "    </tr>\n",
       "    <tr>\n",
       "      <th>4</th>\n",
       "      <td>Back To Nature</td>\n",
       "      <td>5</td>\n",
       "      <td>Back To Nature Gluten Free White Cheddar Rice ...</td>\n",
       "      <td>2.61</td>\n",
       "      <td>759283100036</td>\n",
       "      <td>759283100036</td>\n",
       "    </tr>\n",
       "  </tbody>\n",
       "</table>\n",
       "</div>"
      ],
      "text/plain": [
       "       item_brand  item_id                                          item_name  \\\n",
       "0        Riceland        1                     Riceland American Jazmine Rice   \n",
       "1          Caress        2  Caress Velvet Bliss Ultra Silkening Beauty Bar...   \n",
       "2     Earths Best        3  Earths Best Organic Fruit Yogurt Smoothie Mixe...   \n",
       "3      Boars Head        4   Boars Head Sliced White American Cheese - 120 Ct   \n",
       "4  Back To Nature        5  Back To Nature Gluten Free White Cheddar Rice ...   \n",
       "\n",
       "   item_price    item_upc12    item_upc14  \n",
       "0        0.84   35200264013   35200264013  \n",
       "1        6.44   11111065925   11111065925  \n",
       "2        2.43   23923330139   23923330139  \n",
       "3        3.14  208528800007  208528800007  \n",
       "4        2.61  759283100036  759283100036  "
      ]
     },
     "execution_count": 9,
     "metadata": {},
     "output_type": "execute_result"
    }
   ],
   "source": [
    "# turn the data into a pandas dataframe\n",
    "df = pd.DataFrame(data['payload']['items'])\n",
    "df.head()"
   ]
  },
  {
   "cell_type": "code",
   "execution_count": 10,
   "id": "be2ca793-8607-488b-a069-c34a01049317",
   "metadata": {},
   "outputs": [
    {
     "data": {
      "text/plain": [
       "(20, 6)"
      ]
     },
     "execution_count": 10,
     "metadata": {},
     "output_type": "execute_result"
    }
   ],
   "source": [
    "df.shape"
   ]
  },
  {
   "cell_type": "code",
   "execution_count": 11,
   "id": "d6fb43cb-9f1d-406a-aafa-cc7771bc6fda",
   "metadata": {},
   "outputs": [],
   "source": [
    "# define the base url\n",
    "domain = 'https://api.data.codeup.com'\n",
    "# path or where we are accessing the data inside the url\n",
    "endpoint = '/api/v1/items'\n",
    "#create an empty list to place the data within\n",
    "items = []\n",
    "# combine base and endpoint to alllow for looping\n",
    "url = domain + endpoint\n",
    "\n",
    "# making a request and storing the response to the request as a string\n",
    "response = requests.get(url)\n",
    "\n",
    "# storing the response in json form\n",
    "data = response.json()\n",
    "# .extend adds elements from a list to another list\n",
    "items.extend(data['payload']['items'])\n",
    "# reasigning the endpoint variable to have the path to the next page.\n",
    "endpoint = data['payload']['next_page']"
   ]
  },
  {
   "cell_type": "code",
   "execution_count": 12,
   "id": "3901860a-8c44-4209-9f4f-89fd8e87307e",
   "metadata": {},
   "outputs": [
    {
     "data": {
      "text/html": [
       "<div>\n",
       "<style scoped>\n",
       "    .dataframe tbody tr th:only-of-type {\n",
       "        vertical-align: middle;\n",
       "    }\n",
       "\n",
       "    .dataframe tbody tr th {\n",
       "        vertical-align: top;\n",
       "    }\n",
       "\n",
       "    .dataframe thead th {\n",
       "        text-align: right;\n",
       "    }\n",
       "</style>\n",
       "<table border=\"1\" class=\"dataframe\">\n",
       "  <thead>\n",
       "    <tr style=\"text-align: right;\">\n",
       "      <th></th>\n",
       "      <th>item_brand</th>\n",
       "      <th>item_id</th>\n",
       "      <th>item_name</th>\n",
       "      <th>item_price</th>\n",
       "      <th>item_upc12</th>\n",
       "      <th>item_upc14</th>\n",
       "    </tr>\n",
       "  </thead>\n",
       "  <tbody>\n",
       "    <tr>\n",
       "      <th>0</th>\n",
       "      <td>Riceland</td>\n",
       "      <td>1</td>\n",
       "      <td>Riceland American Jazmine Rice</td>\n",
       "      <td>0.84</td>\n",
       "      <td>35200264013</td>\n",
       "      <td>35200264013</td>\n",
       "    </tr>\n",
       "    <tr>\n",
       "      <th>1</th>\n",
       "      <td>Caress</td>\n",
       "      <td>2</td>\n",
       "      <td>Caress Velvet Bliss Ultra Silkening Beauty Bar...</td>\n",
       "      <td>6.44</td>\n",
       "      <td>11111065925</td>\n",
       "      <td>11111065925</td>\n",
       "    </tr>\n",
       "    <tr>\n",
       "      <th>2</th>\n",
       "      <td>Earths Best</td>\n",
       "      <td>3</td>\n",
       "      <td>Earths Best Organic Fruit Yogurt Smoothie Mixe...</td>\n",
       "      <td>2.43</td>\n",
       "      <td>23923330139</td>\n",
       "      <td>23923330139</td>\n",
       "    </tr>\n",
       "    <tr>\n",
       "      <th>3</th>\n",
       "      <td>Boars Head</td>\n",
       "      <td>4</td>\n",
       "      <td>Boars Head Sliced White American Cheese - 120 Ct</td>\n",
       "      <td>3.14</td>\n",
       "      <td>208528800007</td>\n",
       "      <td>208528800007</td>\n",
       "    </tr>\n",
       "    <tr>\n",
       "      <th>4</th>\n",
       "      <td>Back To Nature</td>\n",
       "      <td>5</td>\n",
       "      <td>Back To Nature Gluten Free White Cheddar Rice ...</td>\n",
       "      <td>2.61</td>\n",
       "      <td>759283100036</td>\n",
       "      <td>759283100036</td>\n",
       "    </tr>\n",
       "  </tbody>\n",
       "</table>\n",
       "</div>"
      ],
      "text/plain": [
       "       item_brand  item_id                                          item_name  \\\n",
       "0        Riceland        1                     Riceland American Jazmine Rice   \n",
       "1          Caress        2  Caress Velvet Bliss Ultra Silkening Beauty Bar...   \n",
       "2     Earths Best        3  Earths Best Organic Fruit Yogurt Smoothie Mixe...   \n",
       "3      Boars Head        4   Boars Head Sliced White American Cheese - 120 Ct   \n",
       "4  Back To Nature        5  Back To Nature Gluten Free White Cheddar Rice ...   \n",
       "\n",
       "   item_price    item_upc12    item_upc14  \n",
       "0        0.84   35200264013   35200264013  \n",
       "1        6.44   11111065925   11111065925  \n",
       "2        2.43   23923330139   23923330139  \n",
       "3        3.14  208528800007  208528800007  \n",
       "4        2.61  759283100036  759283100036  "
      ]
     },
     "execution_count": 12,
     "metadata": {},
     "output_type": "execute_result"
    }
   ],
   "source": [
    "items = pd.DataFrame(items)\n",
    "items.head()"
   ]
  },
  {
   "cell_type": "code",
   "execution_count": 13,
   "id": "be0de06d-3ca0-4321-9f7b-4d2e1e8ff3c6",
   "metadata": {},
   "outputs": [
    {
     "data": {
      "text/plain": [
       "'/api/v1/items?page=2'"
      ]
     },
     "execution_count": 13,
     "metadata": {},
     "output_type": "execute_result"
    }
   ],
   "source": [
    "data ['payload']['next_page']"
   ]
  },
  {
   "cell_type": "code",
   "execution_count": 14,
   "id": "49730806-9e3a-4456-a0ac-85bf4a81d2fd",
   "metadata": {},
   "outputs": [
    {
     "name": "stdout",
     "output_type": "stream",
     "text": [
      "next url: https://api.data.codeup.com/api/v1/items?page=2\n"
     ]
    }
   ],
   "source": [
    "url = domain + data['payload']['next_page']\n",
    "print('next url:', url)"
   ]
  },
  {
   "cell_type": "code",
   "execution_count": 15,
   "id": "de50cf66-1fcd-4323-96e0-42c31a8fe34e",
   "metadata": {},
   "outputs": [
    {
     "data": {
      "text/plain": [
       "\"\\nprint('next endpoint', data['payload']['next_page'])\\nurl = domain + data['payload']['next_page']\\nprint('next_url:', url)\\n\""
      ]
     },
     "execution_count": 15,
     "metadata": {},
     "output_type": "execute_result"
    }
   ],
   "source": [
    "'''\n",
    "print('next endpoint', data['payload']['next_page'])\n",
    "url = domain + data['payload']['next_page']\n",
    "print('next_url:', url)\n",
    "'''"
   ]
  },
  {
   "cell_type": "code",
   "execution_count": 16,
   "id": "2478a444-7c52-419b-85b8-16118e11549e",
   "metadata": {},
   "outputs": [
    {
     "data": {
      "text/html": [
       "<div>\n",
       "<style scoped>\n",
       "    .dataframe tbody tr th:only-of-type {\n",
       "        vertical-align: middle;\n",
       "    }\n",
       "\n",
       "    .dataframe tbody tr th {\n",
       "        vertical-align: top;\n",
       "    }\n",
       "\n",
       "    .dataframe thead th {\n",
       "        text-align: right;\n",
       "    }\n",
       "</style>\n",
       "<table border=\"1\" class=\"dataframe\">\n",
       "  <thead>\n",
       "    <tr style=\"text-align: right;\">\n",
       "      <th></th>\n",
       "      <th>item_brand</th>\n",
       "      <th>item_id</th>\n",
       "      <th>item_name</th>\n",
       "      <th>item_price</th>\n",
       "      <th>item_upc12</th>\n",
       "      <th>item_upc14</th>\n",
       "    </tr>\n",
       "  </thead>\n",
       "  <tbody>\n",
       "    <tr>\n",
       "      <th>0</th>\n",
       "      <td>Riceland</td>\n",
       "      <td>1</td>\n",
       "      <td>Riceland American Jazmine Rice</td>\n",
       "      <td>0.84</td>\n",
       "      <td>35200264013</td>\n",
       "      <td>35200264013</td>\n",
       "    </tr>\n",
       "    <tr>\n",
       "      <th>1</th>\n",
       "      <td>Caress</td>\n",
       "      <td>2</td>\n",
       "      <td>Caress Velvet Bliss Ultra Silkening Beauty Bar...</td>\n",
       "      <td>6.44</td>\n",
       "      <td>11111065925</td>\n",
       "      <td>11111065925</td>\n",
       "    </tr>\n",
       "    <tr>\n",
       "      <th>2</th>\n",
       "      <td>Earths Best</td>\n",
       "      <td>3</td>\n",
       "      <td>Earths Best Organic Fruit Yogurt Smoothie Mixe...</td>\n",
       "      <td>2.43</td>\n",
       "      <td>23923330139</td>\n",
       "      <td>23923330139</td>\n",
       "    </tr>\n",
       "    <tr>\n",
       "      <th>3</th>\n",
       "      <td>Boars Head</td>\n",
       "      <td>4</td>\n",
       "      <td>Boars Head Sliced White American Cheese - 120 Ct</td>\n",
       "      <td>3.14</td>\n",
       "      <td>208528800007</td>\n",
       "      <td>208528800007</td>\n",
       "    </tr>\n",
       "    <tr>\n",
       "      <th>4</th>\n",
       "      <td>Back To Nature</td>\n",
       "      <td>5</td>\n",
       "      <td>Back To Nature Gluten Free White Cheddar Rice ...</td>\n",
       "      <td>2.61</td>\n",
       "      <td>759283100036</td>\n",
       "      <td>759283100036</td>\n",
       "    </tr>\n",
       "    <tr>\n",
       "      <th>5</th>\n",
       "      <td>Sally Hansen</td>\n",
       "      <td>6</td>\n",
       "      <td>Sally Hansen Nail Color Magnetic 903 Silver El...</td>\n",
       "      <td>6.93</td>\n",
       "      <td>74170388732</td>\n",
       "      <td>74170388732</td>\n",
       "    </tr>\n",
       "    <tr>\n",
       "      <th>6</th>\n",
       "      <td>Twinings Of London</td>\n",
       "      <td>7</td>\n",
       "      <td>Twinings Of London Classics Lady Grey Tea - 20 Ct</td>\n",
       "      <td>9.64</td>\n",
       "      <td>70177154004</td>\n",
       "      <td>70177154004</td>\n",
       "    </tr>\n",
       "    <tr>\n",
       "      <th>7</th>\n",
       "      <td>Lea &amp; Perrins</td>\n",
       "      <td>8</td>\n",
       "      <td>Lea &amp; Perrins Marinade In-a-bag Cracked Pepper...</td>\n",
       "      <td>1.68</td>\n",
       "      <td>51600080015</td>\n",
       "      <td>51600080015</td>\n",
       "    </tr>\n",
       "    <tr>\n",
       "      <th>8</th>\n",
       "      <td>Van De Kamps</td>\n",
       "      <td>9</td>\n",
       "      <td>Van De Kamps Fillets Beer Battered - 10 Ct</td>\n",
       "      <td>1.79</td>\n",
       "      <td>19600923015</td>\n",
       "      <td>19600923015</td>\n",
       "    </tr>\n",
       "    <tr>\n",
       "      <th>9</th>\n",
       "      <td>Ahold</td>\n",
       "      <td>10</td>\n",
       "      <td>Ahold Cocoa Almonds</td>\n",
       "      <td>3.17</td>\n",
       "      <td>688267141676</td>\n",
       "      <td>688267141676</td>\n",
       "    </tr>\n",
       "    <tr>\n",
       "      <th>10</th>\n",
       "      <td>Honest Tea</td>\n",
       "      <td>11</td>\n",
       "      <td>Honest Tea Peach White Tea</td>\n",
       "      <td>3.93</td>\n",
       "      <td>657622604842</td>\n",
       "      <td>657622604842</td>\n",
       "    </tr>\n",
       "    <tr>\n",
       "      <th>11</th>\n",
       "      <td>Mueller</td>\n",
       "      <td>12</td>\n",
       "      <td>Mueller Sport Care Basic Support Level Medium ...</td>\n",
       "      <td>8.40</td>\n",
       "      <td>74676640211</td>\n",
       "      <td>74676640211</td>\n",
       "    </tr>\n",
       "    <tr>\n",
       "      <th>12</th>\n",
       "      <td>Garnier Nutritioniste</td>\n",
       "      <td>13</td>\n",
       "      <td>Garnier Nutritioniste Moisture Rescue Fresh Cl...</td>\n",
       "      <td>6.47</td>\n",
       "      <td>603084234561</td>\n",
       "      <td>603084234561</td>\n",
       "    </tr>\n",
       "    <tr>\n",
       "      <th>13</th>\n",
       "      <td>Pamprin</td>\n",
       "      <td>14</td>\n",
       "      <td>Pamprin Maximum Strength Multi-symptom Menstru...</td>\n",
       "      <td>7.54</td>\n",
       "      <td>41167300121</td>\n",
       "      <td>41167300121</td>\n",
       "    </tr>\n",
       "    <tr>\n",
       "      <th>14</th>\n",
       "      <td>Suave</td>\n",
       "      <td>15</td>\n",
       "      <td>Suave Naturals Moisturizing Body Wash Creamy T...</td>\n",
       "      <td>9.11</td>\n",
       "      <td>79400847201</td>\n",
       "      <td>79400847201</td>\n",
       "    </tr>\n",
       "    <tr>\n",
       "      <th>15</th>\n",
       "      <td>Burts Bees</td>\n",
       "      <td>16</td>\n",
       "      <td>Burts Bees Daily Moisturizing Cream Sensitive</td>\n",
       "      <td>5.17</td>\n",
       "      <td>792850014008</td>\n",
       "      <td>792850014008</td>\n",
       "    </tr>\n",
       "    <tr>\n",
       "      <th>16</th>\n",
       "      <td>Ducal</td>\n",
       "      <td>17</td>\n",
       "      <td>Ducal Refried Red Beans</td>\n",
       "      <td>1.16</td>\n",
       "      <td>88313590791</td>\n",
       "      <td>88313590791</td>\n",
       "    </tr>\n",
       "    <tr>\n",
       "      <th>17</th>\n",
       "      <td>Scotch</td>\n",
       "      <td>18</td>\n",
       "      <td>Scotch Removable Clear Mounting Squares - 35 Ct</td>\n",
       "      <td>4.39</td>\n",
       "      <td>21200725340</td>\n",
       "      <td>21200725340</td>\n",
       "    </tr>\n",
       "    <tr>\n",
       "      <th>18</th>\n",
       "      <td>Careone</td>\n",
       "      <td>19</td>\n",
       "      <td>Careone Family Comb Set - 8 Ct</td>\n",
       "      <td>0.74</td>\n",
       "      <td>41520035646</td>\n",
       "      <td>41520035646</td>\n",
       "    </tr>\n",
       "    <tr>\n",
       "      <th>19</th>\n",
       "      <td>Usda Produce</td>\n",
       "      <td>20</td>\n",
       "      <td>Plums Black</td>\n",
       "      <td>5.62</td>\n",
       "      <td>204040000000</td>\n",
       "      <td>204040000000</td>\n",
       "    </tr>\n",
       "  </tbody>\n",
       "</table>\n",
       "</div>"
      ],
      "text/plain": [
       "               item_brand  item_id  \\\n",
       "0                Riceland        1   \n",
       "1                  Caress        2   \n",
       "2             Earths Best        3   \n",
       "3              Boars Head        4   \n",
       "4          Back To Nature        5   \n",
       "5            Sally Hansen        6   \n",
       "6      Twinings Of London        7   \n",
       "7           Lea & Perrins        8   \n",
       "8            Van De Kamps        9   \n",
       "9                   Ahold       10   \n",
       "10             Honest Tea       11   \n",
       "11                Mueller       12   \n",
       "12  Garnier Nutritioniste       13   \n",
       "13                Pamprin       14   \n",
       "14                  Suave       15   \n",
       "15             Burts Bees       16   \n",
       "16                  Ducal       17   \n",
       "17                 Scotch       18   \n",
       "18                Careone       19   \n",
       "19           Usda Produce       20   \n",
       "\n",
       "                                            item_name  item_price  \\\n",
       "0                      Riceland American Jazmine Rice        0.84   \n",
       "1   Caress Velvet Bliss Ultra Silkening Beauty Bar...        6.44   \n",
       "2   Earths Best Organic Fruit Yogurt Smoothie Mixe...        2.43   \n",
       "3    Boars Head Sliced White American Cheese - 120 Ct        3.14   \n",
       "4   Back To Nature Gluten Free White Cheddar Rice ...        2.61   \n",
       "5   Sally Hansen Nail Color Magnetic 903 Silver El...        6.93   \n",
       "6   Twinings Of London Classics Lady Grey Tea - 20 Ct        9.64   \n",
       "7   Lea & Perrins Marinade In-a-bag Cracked Pepper...        1.68   \n",
       "8          Van De Kamps Fillets Beer Battered - 10 Ct        1.79   \n",
       "9                                 Ahold Cocoa Almonds        3.17   \n",
       "10                         Honest Tea Peach White Tea        3.93   \n",
       "11  Mueller Sport Care Basic Support Level Medium ...        8.40   \n",
       "12  Garnier Nutritioniste Moisture Rescue Fresh Cl...        6.47   \n",
       "13  Pamprin Maximum Strength Multi-symptom Menstru...        7.54   \n",
       "14  Suave Naturals Moisturizing Body Wash Creamy T...        9.11   \n",
       "15      Burts Bees Daily Moisturizing Cream Sensitive        5.17   \n",
       "16                            Ducal Refried Red Beans        1.16   \n",
       "17    Scotch Removable Clear Mounting Squares - 35 Ct        4.39   \n",
       "18                     Careone Family Comb Set - 8 Ct        0.74   \n",
       "19                                        Plums Black        5.62   \n",
       "\n",
       "      item_upc12    item_upc14  \n",
       "0    35200264013   35200264013  \n",
       "1    11111065925   11111065925  \n",
       "2    23923330139   23923330139  \n",
       "3   208528800007  208528800007  \n",
       "4   759283100036  759283100036  \n",
       "5    74170388732   74170388732  \n",
       "6    70177154004   70177154004  \n",
       "7    51600080015   51600080015  \n",
       "8    19600923015   19600923015  \n",
       "9   688267141676  688267141676  \n",
       "10  657622604842  657622604842  \n",
       "11   74676640211   74676640211  \n",
       "12  603084234561  603084234561  \n",
       "13   41167300121   41167300121  \n",
       "14   79400847201   79400847201  \n",
       "15  792850014008  792850014008  \n",
       "16   88313590791   88313590791  \n",
       "17   21200725340   21200725340  \n",
       "18   41520035646   41520035646  \n",
       "19  204040000000  204040000000  "
      ]
     },
     "execution_count": 16,
     "metadata": {},
     "output_type": "execute_result"
    }
   ],
   "source": [
    "# create dataframe\n",
    "items = pd.DataFrame(items)\n",
    "items"
   ]
  },
  {
   "cell_type": "code",
   "execution_count": 17,
   "id": "c1318766-4da3-4517-9264-3829798de122",
   "metadata": {},
   "outputs": [],
   "source": [
    "items.to_csv('items', index = False)"
   ]
  },
  {
   "cell_type": "markdown",
   "id": "76ec27e4-bd76-4276-ab53-a80fb03e78cc",
   "metadata": {
    "tags": []
   },
   "source": [
    "## 2. Do the same thing, but for stores (https://python.zgulde.net/api/v1/stores)"
   ]
  },
  {
   "cell_type": "code",
   "execution_count": 18,
   "id": "ebd7a5e7-9367-4e4c-9af3-e3cdaad25450",
   "metadata": {},
   "outputs": [
    {
     "data": {
      "text/plain": [
       "dict_keys(['payload', 'status'])"
      ]
     },
     "execution_count": 18,
     "metadata": {},
     "output_type": "execute_result"
    }
   ],
   "source": [
    "# Let's look at the items\n",
    "response = requests.get('https://api.data.codeup.com/api/v1/stores')\n",
    "data = response.json()\n",
    "# look at dictionary keys\n",
    "data.keys()"
   ]
  },
  {
   "cell_type": "code",
   "execution_count": 19,
   "id": "0b41a42d-2bc5-4fb2-a2b4-ca414fc71346",
   "metadata": {},
   "outputs": [
    {
     "name": "stdout",
     "output_type": "stream",
     "text": [
      "current_page: 1\n",
      "max_page: 1\n",
      "next_page: None\n"
     ]
    }
   ],
   "source": [
    "# Use built-in properties to get to subsequent pages and look at the shape of the pages\n",
    "current_page = data['payload']['page']\n",
    "max_page = data['payload']['max_page']\n",
    "next_page = data['payload']['next_page']\n",
    "\n",
    "print(f'current_page: {current_page}')\n",
    "print(f'max_page: {max_page}')\n",
    "print(f'next_page: {next_page}')"
   ]
  },
  {
   "cell_type": "code",
   "execution_count": 20,
   "id": "5756c46d-b530-47b6-b792-d59bae0fd1a1",
   "metadata": {},
   "outputs": [
    {
     "data": {
      "text/html": [
       "<div>\n",
       "<style scoped>\n",
       "    .dataframe tbody tr th:only-of-type {\n",
       "        vertical-align: middle;\n",
       "    }\n",
       "\n",
       "    .dataframe tbody tr th {\n",
       "        vertical-align: top;\n",
       "    }\n",
       "\n",
       "    .dataframe thead th {\n",
       "        text-align: right;\n",
       "    }\n",
       "</style>\n",
       "<table border=\"1\" class=\"dataframe\">\n",
       "  <thead>\n",
       "    <tr style=\"text-align: right;\">\n",
       "      <th></th>\n",
       "      <th>store_address</th>\n",
       "      <th>store_city</th>\n",
       "      <th>store_id</th>\n",
       "      <th>store_state</th>\n",
       "      <th>store_zipcode</th>\n",
       "    </tr>\n",
       "  </thead>\n",
       "  <tbody>\n",
       "    <tr>\n",
       "      <th>0</th>\n",
       "      <td>12125 Alamo Ranch Pkwy</td>\n",
       "      <td>San Antonio</td>\n",
       "      <td>1</td>\n",
       "      <td>TX</td>\n",
       "      <td>78253</td>\n",
       "    </tr>\n",
       "    <tr>\n",
       "      <th>1</th>\n",
       "      <td>9255 FM 471 West</td>\n",
       "      <td>San Antonio</td>\n",
       "      <td>2</td>\n",
       "      <td>TX</td>\n",
       "      <td>78251</td>\n",
       "    </tr>\n",
       "    <tr>\n",
       "      <th>2</th>\n",
       "      <td>2118 Fredericksburg Rdj</td>\n",
       "      <td>San Antonio</td>\n",
       "      <td>3</td>\n",
       "      <td>TX</td>\n",
       "      <td>78201</td>\n",
       "    </tr>\n",
       "    <tr>\n",
       "      <th>3</th>\n",
       "      <td>516 S Flores St</td>\n",
       "      <td>San Antonio</td>\n",
       "      <td>4</td>\n",
       "      <td>TX</td>\n",
       "      <td>78204</td>\n",
       "    </tr>\n",
       "    <tr>\n",
       "      <th>4</th>\n",
       "      <td>1520 Austin Hwy</td>\n",
       "      <td>San Antonio</td>\n",
       "      <td>5</td>\n",
       "      <td>TX</td>\n",
       "      <td>78218</td>\n",
       "    </tr>\n",
       "  </tbody>\n",
       "</table>\n",
       "</div>"
      ],
      "text/plain": [
       "             store_address   store_city  store_id store_state store_zipcode\n",
       "0   12125 Alamo Ranch Pkwy  San Antonio         1          TX         78253\n",
       "1         9255 FM 471 West  San Antonio         2          TX         78251\n",
       "2  2118 Fredericksburg Rdj  San Antonio         3          TX         78201\n",
       "3          516 S Flores St  San Antonio         4          TX         78204\n",
       "4          1520 Austin Hwy  San Antonio         5          TX         78218"
      ]
     },
     "execution_count": 20,
     "metadata": {},
     "output_type": "execute_result"
    }
   ],
   "source": [
    "# turn the data into a pandas dataframe\n",
    "df = pd.DataFrame(data['payload']['stores'])\n",
    "df.head()"
   ]
  },
  {
   "cell_type": "code",
   "execution_count": 21,
   "id": "3a9f9597-6f27-4921-b18f-2290ee80408c",
   "metadata": {},
   "outputs": [
    {
     "data": {
      "text/plain": [
       "(10, 5)"
      ]
     },
     "execution_count": 21,
     "metadata": {},
     "output_type": "execute_result"
    }
   ],
   "source": [
    "df.shape"
   ]
  },
  {
   "cell_type": "code",
   "execution_count": 22,
   "id": "2ba81172-e1d7-4e80-a4fd-a4603286c32d",
   "metadata": {},
   "outputs": [
    {
     "data": {
      "text/html": [
       "<div>\n",
       "<style scoped>\n",
       "    .dataframe tbody tr th:only-of-type {\n",
       "        vertical-align: middle;\n",
       "    }\n",
       "\n",
       "    .dataframe tbody tr th {\n",
       "        vertical-align: top;\n",
       "    }\n",
       "\n",
       "    .dataframe thead th {\n",
       "        text-align: right;\n",
       "    }\n",
       "</style>\n",
       "<table border=\"1\" class=\"dataframe\">\n",
       "  <thead>\n",
       "    <tr style=\"text-align: right;\">\n",
       "      <th></th>\n",
       "      <th>store_address</th>\n",
       "      <th>store_city</th>\n",
       "      <th>store_id</th>\n",
       "      <th>store_state</th>\n",
       "      <th>store_zipcode</th>\n",
       "    </tr>\n",
       "  </thead>\n",
       "  <tbody>\n",
       "    <tr>\n",
       "      <th>0</th>\n",
       "      <td>12125 Alamo Ranch Pkwy</td>\n",
       "      <td>San Antonio</td>\n",
       "      <td>1</td>\n",
       "      <td>TX</td>\n",
       "      <td>78253</td>\n",
       "    </tr>\n",
       "    <tr>\n",
       "      <th>1</th>\n",
       "      <td>9255 FM 471 West</td>\n",
       "      <td>San Antonio</td>\n",
       "      <td>2</td>\n",
       "      <td>TX</td>\n",
       "      <td>78251</td>\n",
       "    </tr>\n",
       "    <tr>\n",
       "      <th>2</th>\n",
       "      <td>2118 Fredericksburg Rdj</td>\n",
       "      <td>San Antonio</td>\n",
       "      <td>3</td>\n",
       "      <td>TX</td>\n",
       "      <td>78201</td>\n",
       "    </tr>\n",
       "    <tr>\n",
       "      <th>3</th>\n",
       "      <td>516 S Flores St</td>\n",
       "      <td>San Antonio</td>\n",
       "      <td>4</td>\n",
       "      <td>TX</td>\n",
       "      <td>78204</td>\n",
       "    </tr>\n",
       "    <tr>\n",
       "      <th>4</th>\n",
       "      <td>1520 Austin Hwy</td>\n",
       "      <td>San Antonio</td>\n",
       "      <td>5</td>\n",
       "      <td>TX</td>\n",
       "      <td>78218</td>\n",
       "    </tr>\n",
       "    <tr>\n",
       "      <th>5</th>\n",
       "      <td>1015 S WW White Rd</td>\n",
       "      <td>San Antonio</td>\n",
       "      <td>6</td>\n",
       "      <td>TX</td>\n",
       "      <td>78220</td>\n",
       "    </tr>\n",
       "    <tr>\n",
       "      <th>6</th>\n",
       "      <td>12018 Perrin Beitel Rd</td>\n",
       "      <td>San Antonio</td>\n",
       "      <td>7</td>\n",
       "      <td>TX</td>\n",
       "      <td>78217</td>\n",
       "    </tr>\n",
       "    <tr>\n",
       "      <th>7</th>\n",
       "      <td>15000 San Pedro Ave</td>\n",
       "      <td>San Antonio</td>\n",
       "      <td>8</td>\n",
       "      <td>TX</td>\n",
       "      <td>78232</td>\n",
       "    </tr>\n",
       "    <tr>\n",
       "      <th>8</th>\n",
       "      <td>735 SW Military Dr</td>\n",
       "      <td>San Antonio</td>\n",
       "      <td>9</td>\n",
       "      <td>TX</td>\n",
       "      <td>78221</td>\n",
       "    </tr>\n",
       "    <tr>\n",
       "      <th>9</th>\n",
       "      <td>8503 NW Military Hwy</td>\n",
       "      <td>San Antonio</td>\n",
       "      <td>10</td>\n",
       "      <td>TX</td>\n",
       "      <td>78231</td>\n",
       "    </tr>\n",
       "  </tbody>\n",
       "</table>\n",
       "</div>"
      ],
      "text/plain": [
       "             store_address   store_city  store_id store_state store_zipcode\n",
       "0   12125 Alamo Ranch Pkwy  San Antonio         1          TX         78253\n",
       "1         9255 FM 471 West  San Antonio         2          TX         78251\n",
       "2  2118 Fredericksburg Rdj  San Antonio         3          TX         78201\n",
       "3          516 S Flores St  San Antonio         4          TX         78204\n",
       "4          1520 Austin Hwy  San Antonio         5          TX         78218\n",
       "5       1015 S WW White Rd  San Antonio         6          TX         78220\n",
       "6   12018 Perrin Beitel Rd  San Antonio         7          TX         78217\n",
       "7      15000 San Pedro Ave  San Antonio         8          TX         78232\n",
       "8       735 SW Military Dr  San Antonio         9          TX         78221\n",
       "9     8503 NW Military Hwy  San Antonio        10          TX         78231"
      ]
     },
     "execution_count": 22,
     "metadata": {},
     "output_type": "execute_result"
    }
   ],
   "source": [
    "# create dataframe for i\n",
    "stores = df\n",
    "stores"
   ]
  },
  {
   "cell_type": "code",
   "execution_count": 23,
   "id": "7b953f96-b87f-4c3c-a0a7-c78926c98a0e",
   "metadata": {},
   "outputs": [],
   "source": [
    "stores.to_csv('stores', index = False)"
   ]
  },
  {
   "cell_type": "markdown",
   "id": "cf0c1f62-82c7-471d-8e4c-2f738672b965",
   "metadata": {},
   "source": [
    "## 3. Extract the data for sales (https://python.zgulde.net/api/v1/sales). There are a lot of pages of data here, so your code will need to be a little more complex. Your code should continue fetching data from the next page until all of the data is extracted."
   ]
  },
  {
   "cell_type": "code",
   "execution_count": 24,
   "id": "be8863ca-4450-4439-a79c-1a56b9ab30e5",
   "metadata": {},
   "outputs": [
    {
     "name": "stdout",
     "output_type": "stream",
     "text": [
      "Fetching page 183/183 https://api.data.codeup.com/api/v1/sales?page=183"
     ]
    }
   ],
   "source": [
    "# Approach 2\n",
    "base_url = 'https://api.data.codeup.com/api/v1/sales?page='\n",
    "sales = []\n",
    "\n",
    "# make the first request\n",
    "url = base_url + str(1)\n",
    "response = requests.get(url)\n",
    "data = response.json()\n",
    "max_page = data['payload']['max_page']\n",
    "sales.extend(data['payload']['sales'])\n",
    "\n",
    "# We already made the request to the first page, so we'll start at 2.\n",
    "# We add 1 to max_page because the range() function is exclusive of the endpoint\n",
    "page_range = range(2, max_page + 1)\n",
    "\n",
    "for page in page_range:\n",
    "    url = base_url + str(page)\n",
    "    print(f'\\rFetching page {page}/{max_page} {url}', end='')\n",
    "    response = requests.get(url)\n",
    "    data = response.json()\n",
    "    sales.extend(data['payload']['sales'])"
   ]
  },
  {
   "cell_type": "code",
   "execution_count": 25,
   "id": "0847e695-a425-4250-bc48-b17a78801212",
   "metadata": {},
   "outputs": [
    {
     "data": {
      "text/plain": [
       "'\\n# define the base url\\ndomain = \\'https://api.data.codeup.com\\'\\n# path or where we are accessing the data inside the url\\nendpoint = \\'/api/v1/sales\\'\\n#create an empty list to place the data within\\nsales = []\\n\\nwhile True: \\n    # combine base and endpoint to alllow for looping\\n    url = domain + endpoint\\n    # making a request and storing the response to the request as a string\\n    response = requests.get(url)\\n    # storing the response in json form\\n    data = response.json()\\n    # prints the page number for which the data is being acquired out of the total number of pages, as well as the URL\\n    # the \\r replaces the previous print statement with the new one based on the number of characters in the new statement. \\n    print(f\\'\\rGetting page {data[\"payload\"][\"page\"]} of {data[\"payload\"][\"max_page\"]}: {url}\\', end=\\'\\')\\n    # .extend adds elements from a list to another list\\n    items.extend(data[\\'payload\\'][\\'sales\\'])\\n    # reasigning the endpoint variable to have the path to the next page.\\n    endpoint = data[\\'payload\\'][\\'next_page\\']\\n    if endpoint is None: \\n        break\\n'"
      ]
     },
     "execution_count": 25,
     "metadata": {},
     "output_type": "execute_result"
    }
   ],
   "source": [
    "'''\n",
    "# define the base url\n",
    "domain = 'https://api.data.codeup.com'\n",
    "# path or where we are accessing the data inside the url\n",
    "endpoint = '/api/v1/sales'\n",
    "#create an empty list to place the data within\n",
    "sales = []\n",
    "\n",
    "while True: \n",
    "    # combine base and endpoint to alllow for looping\n",
    "    url = domain + endpoint\n",
    "    # making a request and storing the response to the request as a string\n",
    "    response = requests.get(url)\n",
    "    # storing the response in json form\n",
    "    data = response.json()\n",
    "    # prints the page number for which the data is being acquired out of the total number of pages, as well as the URL\n",
    "    # the \\r replaces the previous print statement with the new one based on the number of characters in the new statement. \n",
    "    print(f'\\rGetting page {data[\"payload\"][\"page\"]} of {data[\"payload\"][\"max_page\"]}: {url}', end='')\n",
    "    # .extend adds elements from a list to another list\n",
    "    items.extend(data['payload']['sales'])\n",
    "    # reasigning the endpoint variable to have the path to the next page.\n",
    "    endpoint = data['payload']['next_page']\n",
    "    if endpoint is None: \n",
    "        break\n",
    "'''"
   ]
  },
  {
   "cell_type": "code",
   "execution_count": 26,
   "id": "9399b718-c3e7-49de-af8e-9a53f66e33f0",
   "metadata": {},
   "outputs": [
    {
     "data": {
      "text/html": [
       "<div>\n",
       "<style scoped>\n",
       "    .dataframe tbody tr th:only-of-type {\n",
       "        vertical-align: middle;\n",
       "    }\n",
       "\n",
       "    .dataframe tbody tr th {\n",
       "        vertical-align: top;\n",
       "    }\n",
       "\n",
       "    .dataframe thead th {\n",
       "        text-align: right;\n",
       "    }\n",
       "</style>\n",
       "<table border=\"1\" class=\"dataframe\">\n",
       "  <thead>\n",
       "    <tr style=\"text-align: right;\">\n",
       "      <th></th>\n",
       "      <th>item</th>\n",
       "      <th>sale_amount</th>\n",
       "      <th>sale_date</th>\n",
       "      <th>sale_id</th>\n",
       "      <th>store</th>\n",
       "    </tr>\n",
       "  </thead>\n",
       "  <tbody>\n",
       "    <tr>\n",
       "      <th>0</th>\n",
       "      <td>1</td>\n",
       "      <td>13.0</td>\n",
       "      <td>Tue, 01 Jan 2013 00:00:00 GMT</td>\n",
       "      <td>1</td>\n",
       "      <td>1</td>\n",
       "    </tr>\n",
       "    <tr>\n",
       "      <th>1</th>\n",
       "      <td>1</td>\n",
       "      <td>11.0</td>\n",
       "      <td>Wed, 02 Jan 2013 00:00:00 GMT</td>\n",
       "      <td>2</td>\n",
       "      <td>1</td>\n",
       "    </tr>\n",
       "    <tr>\n",
       "      <th>2</th>\n",
       "      <td>1</td>\n",
       "      <td>14.0</td>\n",
       "      <td>Thu, 03 Jan 2013 00:00:00 GMT</td>\n",
       "      <td>3</td>\n",
       "      <td>1</td>\n",
       "    </tr>\n",
       "    <tr>\n",
       "      <th>3</th>\n",
       "      <td>1</td>\n",
       "      <td>13.0</td>\n",
       "      <td>Fri, 04 Jan 2013 00:00:00 GMT</td>\n",
       "      <td>4</td>\n",
       "      <td>1</td>\n",
       "    </tr>\n",
       "    <tr>\n",
       "      <th>4</th>\n",
       "      <td>1</td>\n",
       "      <td>10.0</td>\n",
       "      <td>Sat, 05 Jan 2013 00:00:00 GMT</td>\n",
       "      <td>5</td>\n",
       "      <td>1</td>\n",
       "    </tr>\n",
       "  </tbody>\n",
       "</table>\n",
       "</div>"
      ],
      "text/plain": [
       "   item  sale_amount                      sale_date  sale_id  store\n",
       "0     1         13.0  Tue, 01 Jan 2013 00:00:00 GMT        1      1\n",
       "1     1         11.0  Wed, 02 Jan 2013 00:00:00 GMT        2      1\n",
       "2     1         14.0  Thu, 03 Jan 2013 00:00:00 GMT        3      1\n",
       "3     1         13.0  Fri, 04 Jan 2013 00:00:00 GMT        4      1\n",
       "4     1         10.0  Sat, 05 Jan 2013 00:00:00 GMT        5      1"
      ]
     },
     "execution_count": 26,
     "metadata": {},
     "output_type": "execute_result"
    }
   ],
   "source": [
    "sales = pd.DataFrame(sales)\n",
    "sales.head()"
   ]
  },
  {
   "cell_type": "code",
   "execution_count": 27,
   "id": "fbe34d98-c65d-48fc-89d8-cd326e1aebdb",
   "metadata": {},
   "outputs": [],
   "source": [
    "sales.to_csv('sales', index = False)"
   ]
  },
  {
   "cell_type": "markdown",
   "id": "3119c179-320f-463b-8d33-fb6d96ff18ec",
   "metadata": {},
   "source": [
    "## 4. Save the data in your files to local csv files so that it will be faster to access in the future."
   ]
  },
  {
   "cell_type": "code",
   "execution_count": 28,
   "id": "0700bb37-c8d4-4928-9aa4-48f8c431be9f",
   "metadata": {},
   "outputs": [],
   "source": [
    "# saved above after each question\n",
    "\n",
    "# items.to_csv('items', index = False)\n",
    "# stores.to_csv('stores', index = False)\n",
    "# sales.to_csv('sales', index = False)"
   ]
  },
  {
   "cell_type": "markdown",
   "id": "7b3e2392-9d00-4407-938f-1a75211dcd31",
   "metadata": {},
   "source": [
    "## 5. Combine the data from your three separate dataframes into one large dataframe."
   ]
  },
  {
   "cell_type": "code",
   "execution_count": 29,
   "id": "aa33d5e4-dc93-41af-b958-7b50f9e102d4",
   "metadata": {},
   "outputs": [
    {
     "data": {
      "text/html": [
       "<div>\n",
       "<style scoped>\n",
       "    .dataframe tbody tr th:only-of-type {\n",
       "        vertical-align: middle;\n",
       "    }\n",
       "\n",
       "    .dataframe tbody tr th {\n",
       "        vertical-align: top;\n",
       "    }\n",
       "\n",
       "    .dataframe thead th {\n",
       "        text-align: right;\n",
       "    }\n",
       "</style>\n",
       "<table border=\"1\" class=\"dataframe\">\n",
       "  <thead>\n",
       "    <tr style=\"text-align: right;\">\n",
       "      <th></th>\n",
       "      <th>item_brand</th>\n",
       "      <th>item_id</th>\n",
       "      <th>item_name</th>\n",
       "      <th>item_price</th>\n",
       "      <th>item_upc12</th>\n",
       "      <th>item_upc14</th>\n",
       "    </tr>\n",
       "  </thead>\n",
       "  <tbody>\n",
       "    <tr>\n",
       "      <th>0</th>\n",
       "      <td>Riceland</td>\n",
       "      <td>1</td>\n",
       "      <td>Riceland American Jazmine Rice</td>\n",
       "      <td>0.84</td>\n",
       "      <td>35200264013</td>\n",
       "      <td>35200264013</td>\n",
       "    </tr>\n",
       "    <tr>\n",
       "      <th>1</th>\n",
       "      <td>Caress</td>\n",
       "      <td>2</td>\n",
       "      <td>Caress Velvet Bliss Ultra Silkening Beauty Bar...</td>\n",
       "      <td>6.44</td>\n",
       "      <td>11111065925</td>\n",
       "      <td>11111065925</td>\n",
       "    </tr>\n",
       "    <tr>\n",
       "      <th>2</th>\n",
       "      <td>Earths Best</td>\n",
       "      <td>3</td>\n",
       "      <td>Earths Best Organic Fruit Yogurt Smoothie Mixe...</td>\n",
       "      <td>2.43</td>\n",
       "      <td>23923330139</td>\n",
       "      <td>23923330139</td>\n",
       "    </tr>\n",
       "    <tr>\n",
       "      <th>3</th>\n",
       "      <td>Boars Head</td>\n",
       "      <td>4</td>\n",
       "      <td>Boars Head Sliced White American Cheese - 120 Ct</td>\n",
       "      <td>3.14</td>\n",
       "      <td>208528800007</td>\n",
       "      <td>208528800007</td>\n",
       "    </tr>\n",
       "    <tr>\n",
       "      <th>4</th>\n",
       "      <td>Back To Nature</td>\n",
       "      <td>5</td>\n",
       "      <td>Back To Nature Gluten Free White Cheddar Rice ...</td>\n",
       "      <td>2.61</td>\n",
       "      <td>759283100036</td>\n",
       "      <td>759283100036</td>\n",
       "    </tr>\n",
       "  </tbody>\n",
       "</table>\n",
       "</div>"
      ],
      "text/plain": [
       "       item_brand  item_id                                          item_name  \\\n",
       "0        Riceland        1                     Riceland American Jazmine Rice   \n",
       "1          Caress        2  Caress Velvet Bliss Ultra Silkening Beauty Bar...   \n",
       "2     Earths Best        3  Earths Best Organic Fruit Yogurt Smoothie Mixe...   \n",
       "3      Boars Head        4   Boars Head Sliced White American Cheese - 120 Ct   \n",
       "4  Back To Nature        5  Back To Nature Gluten Free White Cheddar Rice ...   \n",
       "\n",
       "   item_price    item_upc12    item_upc14  \n",
       "0        0.84   35200264013   35200264013  \n",
       "1        6.44   11111065925   11111065925  \n",
       "2        2.43   23923330139   23923330139  \n",
       "3        3.14  208528800007  208528800007  \n",
       "4        2.61  759283100036  759283100036  "
      ]
     },
     "execution_count": 29,
     "metadata": {},
     "output_type": "execute_result"
    }
   ],
   "source": [
    "items.head()"
   ]
  },
  {
   "cell_type": "code",
   "execution_count": 30,
   "id": "f9890c96-77df-4e21-9d1f-688bcc704c92",
   "metadata": {},
   "outputs": [
    {
     "data": {
      "text/html": [
       "<div>\n",
       "<style scoped>\n",
       "    .dataframe tbody tr th:only-of-type {\n",
       "        vertical-align: middle;\n",
       "    }\n",
       "\n",
       "    .dataframe tbody tr th {\n",
       "        vertical-align: top;\n",
       "    }\n",
       "\n",
       "    .dataframe thead th {\n",
       "        text-align: right;\n",
       "    }\n",
       "</style>\n",
       "<table border=\"1\" class=\"dataframe\">\n",
       "  <thead>\n",
       "    <tr style=\"text-align: right;\">\n",
       "      <th></th>\n",
       "      <th>store_address</th>\n",
       "      <th>store_city</th>\n",
       "      <th>store_id</th>\n",
       "      <th>store_state</th>\n",
       "      <th>store_zipcode</th>\n",
       "    </tr>\n",
       "  </thead>\n",
       "  <tbody>\n",
       "    <tr>\n",
       "      <th>0</th>\n",
       "      <td>12125 Alamo Ranch Pkwy</td>\n",
       "      <td>San Antonio</td>\n",
       "      <td>1</td>\n",
       "      <td>TX</td>\n",
       "      <td>78253</td>\n",
       "    </tr>\n",
       "    <tr>\n",
       "      <th>1</th>\n",
       "      <td>9255 FM 471 West</td>\n",
       "      <td>San Antonio</td>\n",
       "      <td>2</td>\n",
       "      <td>TX</td>\n",
       "      <td>78251</td>\n",
       "    </tr>\n",
       "    <tr>\n",
       "      <th>2</th>\n",
       "      <td>2118 Fredericksburg Rdj</td>\n",
       "      <td>San Antonio</td>\n",
       "      <td>3</td>\n",
       "      <td>TX</td>\n",
       "      <td>78201</td>\n",
       "    </tr>\n",
       "    <tr>\n",
       "      <th>3</th>\n",
       "      <td>516 S Flores St</td>\n",
       "      <td>San Antonio</td>\n",
       "      <td>4</td>\n",
       "      <td>TX</td>\n",
       "      <td>78204</td>\n",
       "    </tr>\n",
       "    <tr>\n",
       "      <th>4</th>\n",
       "      <td>1520 Austin Hwy</td>\n",
       "      <td>San Antonio</td>\n",
       "      <td>5</td>\n",
       "      <td>TX</td>\n",
       "      <td>78218</td>\n",
       "    </tr>\n",
       "  </tbody>\n",
       "</table>\n",
       "</div>"
      ],
      "text/plain": [
       "             store_address   store_city  store_id store_state store_zipcode\n",
       "0   12125 Alamo Ranch Pkwy  San Antonio         1          TX         78253\n",
       "1         9255 FM 471 West  San Antonio         2          TX         78251\n",
       "2  2118 Fredericksburg Rdj  San Antonio         3          TX         78201\n",
       "3          516 S Flores St  San Antonio         4          TX         78204\n",
       "4          1520 Austin Hwy  San Antonio         5          TX         78218"
      ]
     },
     "execution_count": 30,
     "metadata": {},
     "output_type": "execute_result"
    }
   ],
   "source": [
    "stores.head()"
   ]
  },
  {
   "cell_type": "code",
   "execution_count": 31,
   "id": "774730ee-ea94-4d62-9751-dbffdde18549",
   "metadata": {},
   "outputs": [
    {
     "data": {
      "text/html": [
       "<div>\n",
       "<style scoped>\n",
       "    .dataframe tbody tr th:only-of-type {\n",
       "        vertical-align: middle;\n",
       "    }\n",
       "\n",
       "    .dataframe tbody tr th {\n",
       "        vertical-align: top;\n",
       "    }\n",
       "\n",
       "    .dataframe thead th {\n",
       "        text-align: right;\n",
       "    }\n",
       "</style>\n",
       "<table border=\"1\" class=\"dataframe\">\n",
       "  <thead>\n",
       "    <tr style=\"text-align: right;\">\n",
       "      <th></th>\n",
       "      <th>item</th>\n",
       "      <th>sale_amount</th>\n",
       "      <th>sale_date</th>\n",
       "      <th>sale_id</th>\n",
       "      <th>store</th>\n",
       "    </tr>\n",
       "  </thead>\n",
       "  <tbody>\n",
       "    <tr>\n",
       "      <th>0</th>\n",
       "      <td>1</td>\n",
       "      <td>13.0</td>\n",
       "      <td>Tue, 01 Jan 2013 00:00:00 GMT</td>\n",
       "      <td>1</td>\n",
       "      <td>1</td>\n",
       "    </tr>\n",
       "    <tr>\n",
       "      <th>1</th>\n",
       "      <td>1</td>\n",
       "      <td>11.0</td>\n",
       "      <td>Wed, 02 Jan 2013 00:00:00 GMT</td>\n",
       "      <td>2</td>\n",
       "      <td>1</td>\n",
       "    </tr>\n",
       "    <tr>\n",
       "      <th>2</th>\n",
       "      <td>1</td>\n",
       "      <td>14.0</td>\n",
       "      <td>Thu, 03 Jan 2013 00:00:00 GMT</td>\n",
       "      <td>3</td>\n",
       "      <td>1</td>\n",
       "    </tr>\n",
       "    <tr>\n",
       "      <th>3</th>\n",
       "      <td>1</td>\n",
       "      <td>13.0</td>\n",
       "      <td>Fri, 04 Jan 2013 00:00:00 GMT</td>\n",
       "      <td>4</td>\n",
       "      <td>1</td>\n",
       "    </tr>\n",
       "    <tr>\n",
       "      <th>4</th>\n",
       "      <td>1</td>\n",
       "      <td>10.0</td>\n",
       "      <td>Sat, 05 Jan 2013 00:00:00 GMT</td>\n",
       "      <td>5</td>\n",
       "      <td>1</td>\n",
       "    </tr>\n",
       "  </tbody>\n",
       "</table>\n",
       "</div>"
      ],
      "text/plain": [
       "   item  sale_amount                      sale_date  sale_id  store\n",
       "0     1         13.0  Tue, 01 Jan 2013 00:00:00 GMT        1      1\n",
       "1     1         11.0  Wed, 02 Jan 2013 00:00:00 GMT        2      1\n",
       "2     1         14.0  Thu, 03 Jan 2013 00:00:00 GMT        3      1\n",
       "3     1         13.0  Fri, 04 Jan 2013 00:00:00 GMT        4      1\n",
       "4     1         10.0  Sat, 05 Jan 2013 00:00:00 GMT        5      1"
      ]
     },
     "execution_count": 31,
     "metadata": {},
     "output_type": "execute_result"
    }
   ],
   "source": [
    "sales.head()"
   ]
  },
  {
   "cell_type": "code",
   "execution_count": 35,
   "id": "daaa81b2-ae8e-40b4-b524-f84a5fec004c",
   "metadata": {},
   "outputs": [],
   "source": [
    "sales = sales.rename(columns={'item': 'item_id', 'store': 'store_id'})"
   ]
  },
  {
   "cell_type": "code",
   "execution_count": 36,
   "id": "c6bbf8bc-0f95-4693-be0a-70e7e9c1c229",
   "metadata": {},
   "outputs": [],
   "source": [
    "df = pd.merge(sales, items, how='left', on='item_id')\n",
    "df = pd.merge(df, stores, how='left', on='store_id')"
   ]
  },
  {
   "cell_type": "code",
   "execution_count": null,
   "id": "392d2ec7-c443-4744-97f5-a963f26b0d44",
   "metadata": {},
   "outputs": [],
   "source": [
    "df.shape"
   ]
  },
  {
   "cell_type": "markdown",
   "id": "e1fab8b5-06e5-420e-ba40-2185c4328899",
   "metadata": {},
   "source": [
    "6. Acquire the Open Power Systems Data for Germany, which has been rapidly expanding its renewable energy production in recent years. The data set includes country-wide totals of electricity consumption, wind power production, and solar power production for 2006-2017. You can get the data here: https://raw.githubusercontent.com/jenfly/opsd/master/opsd_germany_daily.csv"
   ]
  },
  {
   "cell_type": "code",
   "execution_count": null,
   "id": "b90dd460-ff22-473a-9c11-a3c493704858",
   "metadata": {},
   "outputs": [],
   "source": [
    "opsd = pd.read_csv(\"https://raw.githubusercontent.com/jenfly/opsd/master/opsd_germany_daily.csv\")\n",
    "opsd.head()"
   ]
  },
  {
   "cell_type": "code",
   "execution_count": null,
   "id": "365c0916-1f70-4476-9753-1aeebf790078",
   "metadata": {},
   "outputs": [],
   "source": [
    "opsd.info()"
   ]
  },
  {
   "cell_type": "code",
   "execution_count": null,
   "id": "acb10068-6d74-44e1-9d22-ae81eacec5f9",
   "metadata": {},
   "outputs": [],
   "source": [
    "opsd.shape"
   ]
  },
  {
   "cell_type": "code",
   "execution_count": null,
   "id": "4169cbdf-5742-4299-a4bd-7831762936f8",
   "metadata": {},
   "outputs": [],
   "source": [
    "opsd.isna().sum()"
   ]
  },
  {
   "cell_type": "markdown",
   "id": "878f11b9-3451-47e3-a15d-12a7005d3bbc",
   "metadata": {},
   "source": [
    "7. Make sure all the work that you have done above is reproducible. That is, you should put the code above into separate functions in the acquire.py file and be able to re-run the functions and get the same data."
   ]
  },
  {
   "cell_type": "markdown",
   "id": "a8df8f51-c666-4172-b174-ffd1cfa4f900",
   "metadata": {},
   "source": [
    "- Completed in acquire.py file"
   ]
  },
  {
   "cell_type": "code",
   "execution_count": null,
   "id": "9ba3dd2b-64e5-455e-9664-3b4a13e997fe",
   "metadata": {},
   "outputs": [],
   "source": [
    "# for - set number of times\n",
    "#while - if don't know the number of times"
   ]
  }
 ],
 "metadata": {
  "kernelspec": {
   "display_name": "Python 3 (ipykernel)",
   "language": "python",
   "name": "python3"
  },
  "language_info": {
   "codemirror_mode": {
    "name": "ipython",
    "version": 3
   },
   "file_extension": ".py",
   "mimetype": "text/x-python",
   "name": "python",
   "nbconvert_exporter": "python",
   "pygments_lexer": "ipython3",
   "version": "3.9.7"
  }
 },
 "nbformat": 4,
 "nbformat_minor": 5
}
